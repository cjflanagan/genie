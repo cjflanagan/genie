{
  "nbformat": 4,
  "nbformat_minor": 0,
  "metadata": {
    "colab": {
      "name": "simple_clinical_trials_classifier_example.ipynb",
      "provenance": [],
      "collapsed_sections": [],
      "toc_visible": true,
      "machine_shape": "hm",
      "include_colab_link": true
    },
    "kernelspec": {
      "name": "python3",
      "display_name": "Python 3"
    },
    "accelerator": "GPU"
  },
  "cells": [
    {
      "cell_type": "markdown",
      "metadata": {
        "id": "view-in-github",
        "colab_type": "text"
      },
      "source": [
        "<a href=\"https://colab.research.google.com/github/cjflanagan/genie/blob/master/simple_clinical_trials_classifier_example.ipynb\" target=\"_parent\"><img src=\"https://colab.research.google.com/assets/colab-badge.svg\" alt=\"Open In Colab\"/></a>"
      ]
    },
    {
      "cell_type": "code",
      "metadata": {
        "id": "53vEM6LTLdR-",
        "colab_type": "code",
        "outputId": "ec6ad2cc-ae48-4296-a498-b8fdbbafc60c",
        "colab": {
          "base_uri": "https://localhost:8080/",
          "height": 51
        }
      },
      "source": [
        "from time import time\n",
        "import pandas as pd\n",
        "import seaborn as sns\n",
        "from numpy import loadtxt\n",
        "from xgboost import XGBClassifier\n",
        "from sklearn.model_selection import train_test_split\n",
        "from sklearn import metrics"
      ],
      "execution_count": 0,
      "outputs": [
        {
          "output_type": "stream",
          "text": [
            "/usr/local/lib/python3.6/dist-packages/statsmodels/tools/_testing.py:19: FutureWarning: pandas.util.testing is deprecated. Use the functions in the public API at pandas.testing instead.\n",
            "  import pandas.util.testing as tm\n"
          ],
          "name": "stderr"
        }
      ]
    },
    {
      "cell_type": "code",
      "metadata": {
        "id": "0Jxj_HCbSg84",
        "colab_type": "code",
        "colab": {}
      },
      "source": [
        "from google.colab import auth\n",
        "auth.authenticate_user()"
      ],
      "execution_count": 0,
      "outputs": []
    },
    {
      "cell_type": "markdown",
      "metadata": {
        "id": "KuN9vr0CIeSH",
        "colab_type": "text"
      },
      "source": [
        "# Clinical trials classifier using clinical trial features only"
      ]
    },
    {
      "cell_type": "markdown",
      "metadata": {
        "id": "7Qait1AYUFG1",
        "colab_type": "text"
      },
      "source": [
        "## Load data and assign labels"
      ]
    },
    {
      "cell_type": "code",
      "metadata": {
        "id": "Oyc9NK8vSg8o",
        "colab_type": "code",
        "outputId": "ea340256-96df-42a4-eca6-ccd8f9b5e70c",
        "colab": {
          "base_uri": "https://localhost:8080/",
          "height": 51
        }
      },
      "source": [
        "# https://cloud.google.com/resource-manager/docs/creating-managing-projects\n",
        "project_id = 'harvard-599-trendsetters'\n",
        "\n",
        "startTime = time()\n",
        "\n",
        "df = pd.io.gbq.read_gbq(f'''\n",
        "  SELECT\n",
        "  a.nct_id,\n",
        "  IF(enrollment IS NULL, -1, enrollment) AS enrollment,\n",
        "  IF(number_of_arms IS NULL, -1, number_of_arms) AS number_of_arms,\n",
        "  CASE\n",
        "    WHEN NET.PUBLIC_SUFFIX(email) IS NULL THEN 'no_email'\n",
        "    WHEN NET.PUBLIC_SUFFIX(email) = 'gov' THEN 'gov'\n",
        "    WHEN NET.PUBLIC_SUFFIX(email) = 'edu' THEN 'edu'\n",
        "    WHEN NET.PUBLIC_SUFFIX(email) = 'com' THEN 'com'\n",
        "    ELSE 'other'\n",
        "  END AS email,\n",
        "  CASE \n",
        "    WHEN phase IN ('Phase 1', 'Early Phase 1') AND overall_status IN ('Completed', 'Suspended', 'Withdrawn', 'Terminated') THEN 0\n",
        "    WHEN phase IN ('Phase 2', 'Phase 3', 'Phase 4') THEN 1\n",
        "    ELSE -1\n",
        "  END AS classifier_label,\n",
        "  CONCAT(gene_parsed, '-', disease_parsed_for) as gene_disease,\n",
        "  COUNT(DISTINCT pmid) as pmid_count\n",
        "  FROM `harvard-599-trendsetters.aact.studies_refs_contact` AS a\n",
        "  INNER JOIN `harvard-599-trendsetters.aact.conditions_parsed_for_synonyms` AS b\n",
        "  ON a.nct_id=b.nct_id\n",
        "  INNER JOIN `harvard-599-trendsetters.aact.descriptions_parsed_for_genes` as c\n",
        "  ON a.nct_id=c.nct_id\n",
        "  WHERE contact_type != 'backup'\n",
        "  GROUP BY 1, 2, 3, 4, 5, 6\n",
        "  HAVING classifier_label != -1\n",
        "  ORDER BY RAND()\n",
        "  limit 1000000\n",
        "''', project_id=project_id)\n",
        "\n",
        "print('Total time: %fs' % (time()-startTime))\n",
        "print(' Results: %d' % len(df))"
      ],
      "execution_count": 0,
      "outputs": [
        {
          "output_type": "stream",
          "text": [
            "Total time: 110.605476s\n",
            " Results: 1000000\n"
          ],
          "name": "stdout"
        }
      ]
    },
    {
      "cell_type": "code",
      "metadata": {
        "id": "0Gz-zy4lTDi5",
        "colab_type": "code",
        "colab": {}
      },
      "source": [
        "df.head()"
      ],
      "execution_count": 0,
      "outputs": []
    },
    {
      "cell_type": "code",
      "metadata": {
        "id": "Y_bvuKFWv2b3",
        "colab_type": "code",
        "outputId": "3f99b792-6c7a-4528-d2eb-a83524210463",
        "colab": {
          "base_uri": "https://localhost:8080/",
          "height": 125
        }
      },
      "source": [
        "df.email.value_counts()"
      ],
      "execution_count": 0,
      "outputs": [
        {
          "output_type": "execute_result",
          "data": {
            "text/plain": [
              "no_email    805522\n",
              "other       101568\n",
              "com          58354\n",
              "edu          28866\n",
              "gov           5690\n",
              "Name: email, dtype: int64"
            ]
          },
          "metadata": {
            "tags": []
          },
          "execution_count": 5
        }
      ]
    },
    {
      "cell_type": "code",
      "metadata": {
        "id": "qEM4GqknTEga",
        "colab_type": "code",
        "outputId": "7e4a4491-c47c-41e6-f443-d9f70a6e3584",
        "colab": {
          "base_uri": "https://localhost:8080/",
          "height": 35
        }
      },
      "source": [
        "df.shape"
      ],
      "execution_count": 0,
      "outputs": [
        {
          "output_type": "execute_result",
          "data": {
            "text/plain": [
              "(1000000, 7)"
            ]
          },
          "metadata": {
            "tags": []
          },
          "execution_count": 6
        }
      ]
    },
    {
      "cell_type": "markdown",
      "metadata": {
        "id": "S8FtjhnIXtj_",
        "colab_type": "text"
      },
      "source": [
        "## Feature engineering"
      ]
    },
    {
      "cell_type": "code",
      "metadata": {
        "id": "xAPFsFTMXtA5",
        "colab_type": "code",
        "outputId": "7c0336f0-ef55-45aa-ee38-8d46d9c0884a",
        "colab": {
          "base_uri": "https://localhost:8080/",
          "height": 204
        }
      },
      "source": [
        "dummies_email = pd.get_dummies(df.email)\n",
        "dummies_email.head()"
      ],
      "execution_count": 0,
      "outputs": [
        {
          "output_type": "execute_result",
          "data": {
            "text/html": [
              "<div>\n",
              "<style scoped>\n",
              "    .dataframe tbody tr th:only-of-type {\n",
              "        vertical-align: middle;\n",
              "    }\n",
              "\n",
              "    .dataframe tbody tr th {\n",
              "        vertical-align: top;\n",
              "    }\n",
              "\n",
              "    .dataframe thead th {\n",
              "        text-align: right;\n",
              "    }\n",
              "</style>\n",
              "<table border=\"1\" class=\"dataframe\">\n",
              "  <thead>\n",
              "    <tr style=\"text-align: right;\">\n",
              "      <th></th>\n",
              "      <th>com</th>\n",
              "      <th>edu</th>\n",
              "      <th>gov</th>\n",
              "      <th>no_email</th>\n",
              "      <th>other</th>\n",
              "    </tr>\n",
              "  </thead>\n",
              "  <tbody>\n",
              "    <tr>\n",
              "      <th>0</th>\n",
              "      <td>0</td>\n",
              "      <td>0</td>\n",
              "      <td>0</td>\n",
              "      <td>1</td>\n",
              "      <td>0</td>\n",
              "    </tr>\n",
              "    <tr>\n",
              "      <th>1</th>\n",
              "      <td>0</td>\n",
              "      <td>0</td>\n",
              "      <td>0</td>\n",
              "      <td>1</td>\n",
              "      <td>0</td>\n",
              "    </tr>\n",
              "    <tr>\n",
              "      <th>2</th>\n",
              "      <td>0</td>\n",
              "      <td>0</td>\n",
              "      <td>0</td>\n",
              "      <td>1</td>\n",
              "      <td>0</td>\n",
              "    </tr>\n",
              "    <tr>\n",
              "      <th>3</th>\n",
              "      <td>0</td>\n",
              "      <td>0</td>\n",
              "      <td>0</td>\n",
              "      <td>1</td>\n",
              "      <td>0</td>\n",
              "    </tr>\n",
              "    <tr>\n",
              "      <th>4</th>\n",
              "      <td>0</td>\n",
              "      <td>0</td>\n",
              "      <td>0</td>\n",
              "      <td>1</td>\n",
              "      <td>0</td>\n",
              "    </tr>\n",
              "  </tbody>\n",
              "</table>\n",
              "</div>"
            ],
            "text/plain": [
              "   com  edu  gov  no_email  other\n",
              "0    0    0    0         1      0\n",
              "1    0    0    0         1      0\n",
              "2    0    0    0         1      0\n",
              "3    0    0    0         1      0\n",
              "4    0    0    0         1      0"
            ]
          },
          "metadata": {
            "tags": []
          },
          "execution_count": 7
        }
      ]
    },
    {
      "cell_type": "code",
      "metadata": {
        "id": "AzHkKH6PX_dK",
        "colab_type": "code",
        "colab": {}
      },
      "source": [
        "df = df.join(dummies_email)\n"
      ],
      "execution_count": 0,
      "outputs": []
    },
    {
      "cell_type": "code",
      "metadata": {
        "id": "vJZ_Og-vYOOX",
        "colab_type": "code",
        "outputId": "a462e40e-1155-4495-da3c-996475f6367e",
        "colab": {
          "base_uri": "https://localhost:8080/",
          "height": 204
        }
      },
      "source": [
        "df.head()"
      ],
      "execution_count": 0,
      "outputs": [
        {
          "output_type": "execute_result",
          "data": {
            "text/html": [
              "<div>\n",
              "<style scoped>\n",
              "    .dataframe tbody tr th:only-of-type {\n",
              "        vertical-align: middle;\n",
              "    }\n",
              "\n",
              "    .dataframe tbody tr th {\n",
              "        vertical-align: top;\n",
              "    }\n",
              "\n",
              "    .dataframe thead th {\n",
              "        text-align: right;\n",
              "    }\n",
              "</style>\n",
              "<table border=\"1\" class=\"dataframe\">\n",
              "  <thead>\n",
              "    <tr style=\"text-align: right;\">\n",
              "      <th></th>\n",
              "      <th>nct_id</th>\n",
              "      <th>enrollment</th>\n",
              "      <th>number_of_arms</th>\n",
              "      <th>email</th>\n",
              "      <th>classifier_label</th>\n",
              "      <th>gene_disease</th>\n",
              "      <th>pmid_count</th>\n",
              "      <th>com</th>\n",
              "      <th>edu</th>\n",
              "      <th>gov</th>\n",
              "      <th>no_email</th>\n",
              "      <th>other</th>\n",
              "    </tr>\n",
              "  </thead>\n",
              "  <tbody>\n",
              "    <tr>\n",
              "      <th>0</th>\n",
              "      <td>NCT03652103</td>\n",
              "      <td>64</td>\n",
              "      <td>2</td>\n",
              "      <td>no_email</td>\n",
              "      <td>1</td>\n",
              "      <td>oval-sthe</td>\n",
              "      <td>0</td>\n",
              "      <td>0</td>\n",
              "      <td>0</td>\n",
              "      <td>0</td>\n",
              "      <td>1</td>\n",
              "      <td>0</td>\n",
              "    </tr>\n",
              "    <tr>\n",
              "      <th>1</th>\n",
              "      <td>NCT00506259</td>\n",
              "      <td>23</td>\n",
              "      <td>-1</td>\n",
              "      <td>no_email</td>\n",
              "      <td>0</td>\n",
              "      <td>eve-sleep disorder</td>\n",
              "      <td>3</td>\n",
              "      <td>0</td>\n",
              "      <td>0</td>\n",
              "      <td>0</td>\n",
              "      <td>1</td>\n",
              "      <td>0</td>\n",
              "    </tr>\n",
              "    <tr>\n",
              "      <th>2</th>\n",
              "      <td>NCT00432835</td>\n",
              "      <td>58</td>\n",
              "      <td>2</td>\n",
              "      <td>no_email</td>\n",
              "      <td>1</td>\n",
              "      <td>line-es</td>\n",
              "      <td>1</td>\n",
              "      <td>0</td>\n",
              "      <td>0</td>\n",
              "      <td>0</td>\n",
              "      <td>1</td>\n",
              "      <td>0</td>\n",
              "    </tr>\n",
              "    <tr>\n",
              "      <th>3</th>\n",
              "      <td>NCT02453334</td>\n",
              "      <td>244</td>\n",
              "      <td>2</td>\n",
              "      <td>no_email</td>\n",
              "      <td>1</td>\n",
              "      <td>ase-ra</td>\n",
              "      <td>0</td>\n",
              "      <td>0</td>\n",
              "      <td>0</td>\n",
              "      <td>0</td>\n",
              "      <td>1</td>\n",
              "      <td>0</td>\n",
              "    </tr>\n",
              "    <tr>\n",
              "      <th>4</th>\n",
              "      <td>NCT00005905</td>\n",
              "      <td>20</td>\n",
              "      <td>-1</td>\n",
              "      <td>no_email</td>\n",
              "      <td>1</td>\n",
              "      <td>def-dys</td>\n",
              "      <td>3</td>\n",
              "      <td>0</td>\n",
              "      <td>0</td>\n",
              "      <td>0</td>\n",
              "      <td>1</td>\n",
              "      <td>0</td>\n",
              "    </tr>\n",
              "  </tbody>\n",
              "</table>\n",
              "</div>"
            ],
            "text/plain": [
              "        nct_id  enrollment  number_of_arms     email  ...  edu gov  no_email  other\n",
              "0  NCT03652103          64               2  no_email  ...    0   0         1      0\n",
              "1  NCT00506259          23              -1  no_email  ...    0   0         1      0\n",
              "2  NCT00432835          58               2  no_email  ...    0   0         1      0\n",
              "3  NCT02453334         244               2  no_email  ...    0   0         1      0\n",
              "4  NCT00005905          20              -1  no_email  ...    0   0         1      0\n",
              "\n",
              "[5 rows x 12 columns]"
            ]
          },
          "metadata": {
            "tags": []
          },
          "execution_count": 9
        }
      ]
    },
    {
      "cell_type": "code",
      "metadata": {
        "id": "o6ePUmLfZ0J_",
        "colab_type": "code",
        "outputId": "e263060a-dcce-458b-b738-4eefb5accdd5",
        "colab": {
          "base_uri": "https://localhost:8080/",
          "height": 233
        }
      },
      "source": [
        "df.gene_disease.value_counts()"
      ],
      "execution_count": 0,
      "outputs": [
        {
          "output_type": "execute_result",
          "data": {
            "text/plain": [
              "nts-an                               1206\n",
              "nts-is                               1153\n",
              "rea-an                               1134\n",
              "tie-an                               1082\n",
              "nts-as                               1077\n",
              "                                     ... \n",
              "myot-ach                                1\n",
              "ppl-cocaine dependence                  1\n",
              "mpl-chronic eosinophilic leukemia       1\n",
              "kin-diabetic nephropathy                1\n",
              "max-anxiety disorder                    1\n",
              "Name: gene_disease, Length: 155399, dtype: int64"
            ]
          },
          "metadata": {
            "tags": []
          },
          "execution_count": 10
        }
      ]
    },
    {
      "cell_type": "markdown",
      "metadata": {
        "id": "AE2W8EOlUCu5",
        "colab_type": "text"
      },
      "source": [
        "## Train classifier"
      ]
    },
    {
      "cell_type": "code",
      "metadata": {
        "id": "LkjIkX09Tcvn",
        "colab_type": "code",
        "colab": {}
      },
      "source": [
        "Y = df.pop('classifier_label')\n"
      ],
      "execution_count": 0,
      "outputs": []
    },
    {
      "cell_type": "code",
      "metadata": {
        "id": "F1x1ScfhYUMz",
        "colab_type": "code",
        "outputId": "4ae9409a-19dc-4007-f609-5f8979fefcae",
        "colab": {
          "base_uri": "https://localhost:8080/",
          "height": 71
        }
      },
      "source": [
        "df.columns"
      ],
      "execution_count": 0,
      "outputs": [
        {
          "output_type": "execute_result",
          "data": {
            "text/plain": [
              "Index(['nct_id', 'enrollment', 'number_of_arms', 'email', 'gene_disease',\n",
              "       'pmid_count', 'com', 'edu', 'gov', 'no_email', 'other'],\n",
              "      dtype='object')"
            ]
          },
          "metadata": {
            "tags": []
          },
          "execution_count": 12
        }
      ]
    },
    {
      "cell_type": "code",
      "metadata": {
        "id": "6dqxFQ30WuUZ",
        "colab_type": "code",
        "colab": {}
      },
      "source": [
        "X = df[['enrollment', 'number_of_arms',  'com', 'edu', 'gov', 'no_email', 'other', 'pmid_count']]"
      ],
      "execution_count": 0,
      "outputs": []
    },
    {
      "cell_type": "code",
      "metadata": {
        "id": "S6Vq0lW7U9WF",
        "colab_type": "code",
        "outputId": "9dfe937f-26d6-412e-b74b-d92e0762dffc",
        "colab": {
          "base_uri": "https://localhost:8080/",
          "height": 71
        }
      },
      "source": [
        "Y.value_counts()"
      ],
      "execution_count": 0,
      "outputs": [
        {
          "output_type": "execute_result",
          "data": {
            "text/plain": [
              "1    825093\n",
              "0    174907\n",
              "Name: classifier_label, dtype: int64"
            ]
          },
          "metadata": {
            "tags": []
          },
          "execution_count": 14
        }
      ]
    },
    {
      "cell_type": "code",
      "metadata": {
        "id": "AGhsOz9GUReC",
        "colab_type": "code",
        "outputId": "2177bfae-d13d-4319-b1c9-859f3595ea67",
        "colab": {
          "base_uri": "https://localhost:8080/",
          "height": 204
        }
      },
      "source": [
        "X.head()"
      ],
      "execution_count": 0,
      "outputs": [
        {
          "output_type": "execute_result",
          "data": {
            "text/html": [
              "<div>\n",
              "<style scoped>\n",
              "    .dataframe tbody tr th:only-of-type {\n",
              "        vertical-align: middle;\n",
              "    }\n",
              "\n",
              "    .dataframe tbody tr th {\n",
              "        vertical-align: top;\n",
              "    }\n",
              "\n",
              "    .dataframe thead th {\n",
              "        text-align: right;\n",
              "    }\n",
              "</style>\n",
              "<table border=\"1\" class=\"dataframe\">\n",
              "  <thead>\n",
              "    <tr style=\"text-align: right;\">\n",
              "      <th></th>\n",
              "      <th>enrollment</th>\n",
              "      <th>number_of_arms</th>\n",
              "      <th>com</th>\n",
              "      <th>edu</th>\n",
              "      <th>gov</th>\n",
              "      <th>no_email</th>\n",
              "      <th>other</th>\n",
              "      <th>pmid_count</th>\n",
              "    </tr>\n",
              "  </thead>\n",
              "  <tbody>\n",
              "    <tr>\n",
              "      <th>0</th>\n",
              "      <td>64</td>\n",
              "      <td>2</td>\n",
              "      <td>0</td>\n",
              "      <td>0</td>\n",
              "      <td>0</td>\n",
              "      <td>1</td>\n",
              "      <td>0</td>\n",
              "      <td>0</td>\n",
              "    </tr>\n",
              "    <tr>\n",
              "      <th>1</th>\n",
              "      <td>23</td>\n",
              "      <td>-1</td>\n",
              "      <td>0</td>\n",
              "      <td>0</td>\n",
              "      <td>0</td>\n",
              "      <td>1</td>\n",
              "      <td>0</td>\n",
              "      <td>3</td>\n",
              "    </tr>\n",
              "    <tr>\n",
              "      <th>2</th>\n",
              "      <td>58</td>\n",
              "      <td>2</td>\n",
              "      <td>0</td>\n",
              "      <td>0</td>\n",
              "      <td>0</td>\n",
              "      <td>1</td>\n",
              "      <td>0</td>\n",
              "      <td>1</td>\n",
              "    </tr>\n",
              "    <tr>\n",
              "      <th>3</th>\n",
              "      <td>244</td>\n",
              "      <td>2</td>\n",
              "      <td>0</td>\n",
              "      <td>0</td>\n",
              "      <td>0</td>\n",
              "      <td>1</td>\n",
              "      <td>0</td>\n",
              "      <td>0</td>\n",
              "    </tr>\n",
              "    <tr>\n",
              "      <th>4</th>\n",
              "      <td>20</td>\n",
              "      <td>-1</td>\n",
              "      <td>0</td>\n",
              "      <td>0</td>\n",
              "      <td>0</td>\n",
              "      <td>1</td>\n",
              "      <td>0</td>\n",
              "      <td>3</td>\n",
              "    </tr>\n",
              "  </tbody>\n",
              "</table>\n",
              "</div>"
            ],
            "text/plain": [
              "   enrollment  number_of_arms  com  edu  gov  no_email  other  pmid_count\n",
              "0          64               2    0    0    0         1      0           0\n",
              "1          23              -1    0    0    0         1      0           3\n",
              "2          58               2    0    0    0         1      0           1\n",
              "3         244               2    0    0    0         1      0           0\n",
              "4          20              -1    0    0    0         1      0           3"
            ]
          },
          "metadata": {
            "tags": []
          },
          "execution_count": 15
        }
      ]
    },
    {
      "cell_type": "code",
      "metadata": {
        "id": "9T1vg2ATUTMn",
        "colab_type": "code",
        "colab": {}
      },
      "source": [
        "X_train, X_test, y_train, y_test = train_test_split(X, Y)"
      ],
      "execution_count": 0,
      "outputs": []
    },
    {
      "cell_type": "code",
      "metadata": {
        "id": "-YSR-CzZUy5I",
        "colab_type": "code",
        "outputId": "afc0129b-f0d4-4aee-8280-6b75a8ae72e5",
        "colab": {
          "base_uri": "https://localhost:8080/",
          "height": 233
        }
      },
      "source": [
        "y_train"
      ],
      "execution_count": 0,
      "outputs": [
        {
          "output_type": "execute_result",
          "data": {
            "text/plain": [
              "414750    1\n",
              "937812    1\n",
              "211013    1\n",
              "753516    1\n",
              "638244    0\n",
              "         ..\n",
              "236775    1\n",
              "465085    1\n",
              "904677    1\n",
              "164032    1\n",
              "480806    1\n",
              "Name: classifier_label, Length: 750000, dtype: int64"
            ]
          },
          "metadata": {
            "tags": []
          },
          "execution_count": 17
        }
      ]
    },
    {
      "cell_type": "code",
      "metadata": {
        "id": "ahmjHwJoUr6l",
        "colab_type": "code",
        "outputId": "ee8fc08c-b17d-4c45-842b-a118ca0e8cc6",
        "colab": {
          "base_uri": "https://localhost:8080/",
          "height": 143
        }
      },
      "source": [
        "model = XGBClassifier()\n",
        "model.fit(X_train, y_train)"
      ],
      "execution_count": 0,
      "outputs": [
        {
          "output_type": "execute_result",
          "data": {
            "text/plain": [
              "XGBClassifier(base_score=0.5, booster='gbtree', colsample_bylevel=1,\n",
              "              colsample_bynode=1, colsample_bytree=1, gamma=0,\n",
              "              learning_rate=0.1, max_delta_step=0, max_depth=3,\n",
              "              min_child_weight=1, missing=None, n_estimators=100, n_jobs=1,\n",
              "              nthread=None, objective='binary:logistic', random_state=0,\n",
              "              reg_alpha=0, reg_lambda=1, scale_pos_weight=1, seed=None,\n",
              "              silent=None, subsample=1, verbosity=1)"
            ]
          },
          "metadata": {
            "tags": []
          },
          "execution_count": 18
        }
      ]
    },
    {
      "cell_type": "code",
      "metadata": {
        "id": "rxJwg6d2Uwc1",
        "colab_type": "code",
        "colab": {}
      },
      "source": [
        "y_pred = model.predict(X_test)"
      ],
      "execution_count": 0,
      "outputs": []
    },
    {
      "cell_type": "code",
      "metadata": {
        "id": "yfVd7ScgWh-t",
        "colab_type": "code",
        "outputId": "22098c51-d00a-4187-dca2-afff23a12220",
        "colab": {
          "base_uri": "https://localhost:8080/",
          "height": 313
        }
      },
      "source": [
        "from sklearn.metrics import roc_curve\n",
        "from sklearn.metrics import auc\n",
        "import matplotlib.pyplot as plt\n",
        "\n",
        "# Compute fpr, tpr, thresholds and roc auc\n",
        "fpr, tpr, thresholds = roc_curve(y_test, y_pred)\n",
        "roc_auc = auc(fpr, tpr)\n",
        "\n",
        "# Plot ROC curve\n",
        "plt.plot(fpr, tpr, label='ROC curve (area = %0.3f)' % roc_auc)\n",
        "plt.plot([0, 1], [0, 1], 'k--')  # random predictions curve\n",
        "plt.xlim([0.0, 1.0])\n",
        "plt.ylim([0.0, 1.0])\n",
        "plt.xlabel('False Positive Rate or (1 - Specifity)')\n",
        "plt.ylabel('True Positive Rate or (Sensitivity)')\n",
        "plt.title('Receiver Operating Characteristic')\n",
        "plt.legend(loc=\"lower right\")"
      ],
      "execution_count": 0,
      "outputs": [
        {
          "output_type": "execute_result",
          "data": {
            "text/plain": [
              "<matplotlib.legend.Legend at 0x7f17b2d564a8>"
            ]
          },
          "metadata": {
            "tags": []
          },
          "execution_count": 20
        },
        {
          "output_type": "display_data",
          "data": {
            "image/png": "[encoded data removed]",
            "text/plain": [
              "<Figure size 432x288 with 1 Axes>"
            ]
          },
          "metadata": {
            "tags": []
          }
        }
      ]
    },
    {
      "cell_type": "code",
      "metadata": {
        "id": "E1eCTMtBW04h",
        "colab_type": "code",
        "outputId": "8a75dbe5-4c1b-4614-89a6-34a4670b2d14",
        "colab": {
          "base_uri": "https://localhost:8080/",
          "height": 295
        }
      },
      "source": [
        "from xgboost import plot_importance\n",
        "# plot feature importance\n",
        "plot_importance(model)\n",
        "plt.show()"
      ],
      "execution_count": 0,
      "outputs": [
        {
          "output_type": "display_data",
          "data": {
            "image/png": "[encoded data removed]",
            "text/plain": [
              "<Figure size 432x288 with 1 Axes>"
            ]
          },
          "metadata": {
            "tags": []
          }
        }
      ]
    },
    {
      "cell_type": "markdown",
      "metadata": {
        "colab_type": "text",
        "id": "7kb2YSL4IsDD"
      },
      "source": [
        "# Clinical trials classifier using pubmed features (very limited at the moment as feature eng just beginning) "
      ]
    },
    {
      "cell_type": "markdown",
      "metadata": {
        "colab_type": "text",
        "id": "UII1YxNJIsDE"
      },
      "source": [
        "## Load data and assign labels"
      ]
    },
    {
      "cell_type": "code",
      "metadata": {
        "colab_type": "code",
        "id": "b1GzMDs9IsDE",
        "colab": {}
      },
      "source": [
        "# https://cloud.google.com/resource-manager/docs/creating-managing-projects\n",
        "project_id = 'harvard-599-trendsetters'\n",
        "\n",
        "df = pd.io.gbq.read_gbq(f'''\n",
        "   SELECT\n",
        "    gene_disease_relationship,\n",
        "    CASE \n",
        "      WHEN phase IN ('Phase 1', 'Early Phase 1') AND overall_status IN ('Completed', 'Suspended', 'Withdrawn', 'Terminated') THEN 0\n",
        "      WHEN phase IN ('Phase 2', 'Phase 3', 'Phase 4') THEN 1 \n",
        "      ELSE -1\n",
        "    END AS classifier_label,\n",
        "    a.pmid,\n",
        "    ARRAY_LENGTH(b.authors) AS num_authors,\n",
        "    ARRAY_LENGTH(b.chemicals) AS num_chemicals,\n",
        "    CHAR_LENGTH(b.article_title) as article_title_length,\n",
        "    CHAR_LENGTH(b.abstract) as abstract_length,\n",
        "    b.language,\n",
        "    b.title as title,\n",
        "    b.pub_model as pub_model,\n",
        "    COUNT(DISTINCT b.pub_model) OVER (PARTITION BY gene_disease_relationship) AS total_pub_models_relationship_is_in,\n",
        "    COUNT(DISTINCT b.language) OVER (PARTITION BY gene_disease_relationship) AS total_distinct_languages_relationship_in,\n",
        "    COUNT(DISTINCT b.title) OVER (PARTITION BY gene_disease_relationship) AS total_distinct_journals_relationship_is_in,\n",
        "    COUNT(DISTINCT a.pmid) OVER (PARTITION BY gene_disease_relationship) AS total_pubmed_articles_on_relationship\n",
        "    FROM `harvard-599-trendsetters.aact.complete_data_ready_for_feature_eng` AS a\n",
        "    LEFT JOIN `harvard-599-trendsetters.pubmed.baseline_02032020` AS b\n",
        "      ON a.pmid=b.pmid\n",
        "\n",
        "''', project_id=project_id)\n",
        "\n"
      ],
      "execution_count": 0,
      "outputs": []
    },
    {
      "cell_type": "code",
      "metadata": {
        "colab_type": "code",
        "outputId": "4ba74fba-c0e4-42e4-9078-bcdfe4cc13a7",
        "id": "rGaSQl9uIsDG",
        "colab": {
          "base_uri": "https://localhost:8080/",
          "height": 343
        }
      },
      "source": [
        "df.head()"
      ],
      "execution_count": 0,
      "outputs": [
        {
          "output_type": "execute_result",
          "data": {
            "text/html": [
              "<div>\n",
              "<style scoped>\n",
              "    .dataframe tbody tr th:only-of-type {\n",
              "        vertical-align: middle;\n",
              "    }\n",
              "\n",
              "    .dataframe tbody tr th {\n",
              "        vertical-align: top;\n",
              "    }\n",
              "\n",
              "    .dataframe thead th {\n",
              "        text-align: right;\n",
              "    }\n",
              "</style>\n",
              "<table border=\"1\" class=\"dataframe\">\n",
              "  <thead>\n",
              "    <tr style=\"text-align: right;\">\n",
              "      <th></th>\n",
              "      <th>gene_disease_relationship</th>\n",
              "      <th>classifier_label</th>\n",
              "      <th>pmid</th>\n",
              "      <th>num_authors</th>\n",
              "      <th>num_chemicals</th>\n",
              "      <th>article_title_length</th>\n",
              "      <th>abstract_length</th>\n",
              "      <th>language</th>\n",
              "      <th>title</th>\n",
              "      <th>pub_model</th>\n",
              "      <th>total_pub_models_relationship_is_in</th>\n",
              "      <th>total_distinct_languages_relationship_in</th>\n",
              "      <th>total_distinct_journals_relationship_is_in</th>\n",
              "      <th>total_pubmed_articles_on_relationship</th>\n",
              "    </tr>\n",
              "  </thead>\n",
              "  <tbody>\n",
              "    <tr>\n",
              "      <th>0</th>\n",
              "      <td>obese-visceral obesity</td>\n",
              "      <td>-1</td>\n",
              "      <td>21676388</td>\n",
              "      <td>2.0</td>\n",
              "      <td>4.0</td>\n",
              "      <td>50.0</td>\n",
              "      <td>428.0</td>\n",
              "      <td>eng</td>\n",
              "      <td>Environmental research</td>\n",
              "      <td>Print-Electronic</td>\n",
              "      <td>2</td>\n",
              "      <td>1</td>\n",
              "      <td>3</td>\n",
              "      <td>3</td>\n",
              "    </tr>\n",
              "    <tr>\n",
              "      <th>1</th>\n",
              "      <td>obese-visceral obesity</td>\n",
              "      <td>-1</td>\n",
              "      <td>21676388</td>\n",
              "      <td>2.0</td>\n",
              "      <td>4.0</td>\n",
              "      <td>50.0</td>\n",
              "      <td>428.0</td>\n",
              "      <td>eng</td>\n",
              "      <td>Environmental research</td>\n",
              "      <td>Print-Electronic</td>\n",
              "      <td>2</td>\n",
              "      <td>1</td>\n",
              "      <td>3</td>\n",
              "      <td>3</td>\n",
              "    </tr>\n",
              "    <tr>\n",
              "      <th>2</th>\n",
              "      <td>obese-visceral obesity</td>\n",
              "      <td>-1</td>\n",
              "      <td>31528831</td>\n",
              "      <td>5.0</td>\n",
              "      <td>0.0</td>\n",
              "      <td>78.0</td>\n",
              "      <td>1399.0</td>\n",
              "      <td>eng</td>\n",
              "      <td>Journal of the Endocrine Society</td>\n",
              "      <td>Electronic-eCollection</td>\n",
              "      <td>2</td>\n",
              "      <td>1</td>\n",
              "      <td>3</td>\n",
              "      <td>3</td>\n",
              "    </tr>\n",
              "    <tr>\n",
              "      <th>3</th>\n",
              "      <td>obese-visceral obesity</td>\n",
              "      <td>-1</td>\n",
              "      <td>31528831</td>\n",
              "      <td>5.0</td>\n",
              "      <td>0.0</td>\n",
              "      <td>78.0</td>\n",
              "      <td>1399.0</td>\n",
              "      <td>eng</td>\n",
              "      <td>Journal of the Endocrine Society</td>\n",
              "      <td>Electronic-eCollection</td>\n",
              "      <td>2</td>\n",
              "      <td>1</td>\n",
              "      <td>3</td>\n",
              "      <td>3</td>\n",
              "    </tr>\n",
              "    <tr>\n",
              "      <th>4</th>\n",
              "      <td>obese-visceral obesity</td>\n",
              "      <td>-1</td>\n",
              "      <td>26752053</td>\n",
              "      <td>4.0</td>\n",
              "      <td>5.0</td>\n",
              "      <td>96.0</td>\n",
              "      <td>2019.0</td>\n",
              "      <td>eng</td>\n",
              "      <td>PloS one</td>\n",
              "      <td>Electronic-eCollection</td>\n",
              "      <td>2</td>\n",
              "      <td>1</td>\n",
              "      <td>3</td>\n",
              "      <td>3</td>\n",
              "    </tr>\n",
              "  </tbody>\n",
              "</table>\n",
              "</div>"
            ],
            "text/plain": [
              "  gene_disease_relationship  ...  total_pubmed_articles_on_relationship\n",
              "0    obese-visceral obesity  ...                                      3\n",
              "1    obese-visceral obesity  ...                                      3\n",
              "2    obese-visceral obesity  ...                                      3\n",
              "3    obese-visceral obesity  ...                                      3\n",
              "4    obese-visceral obesity  ...                                      3\n",
              "\n",
              "[5 rows x 14 columns]"
            ]
          },
          "metadata": {
            "tags": []
          },
          "execution_count": 29
        }
      ]
    },
    {
      "cell_type": "code",
      "metadata": {
        "colab_type": "code",
        "outputId": "7b22e7c0-b1dd-4ed9-b810-ea0eda6441d4",
        "id": "IuvcnEdLIsDI",
        "colab": {
          "base_uri": "https://localhost:8080/",
          "height": 89
        }
      },
      "source": [
        "df.classifier_label.value_counts()"
      ],
      "execution_count": 0,
      "outputs": [
        {
          "output_type": "execute_result",
          "data": {
            "text/plain": [
              "-1    134675\n",
              " 1     32012\n",
              " 0      4661\n",
              "Name: classifier_label, dtype: int64"
            ]
          },
          "metadata": {
            "tags": []
          },
          "execution_count": 30
        }
      ]
    },
    {
      "cell_type": "code",
      "metadata": {
        "id": "DR_gySp3QIiH",
        "colab_type": "code",
        "outputId": "6ca71b6c-b5d5-4908-8d8c-7d7681db17ab",
        "colab": {
          "base_uri": "https://localhost:8080/",
          "height": 71
        }
      },
      "source": [
        "df = df[df.classifier_label!= -1]\n",
        "df.classifier_label.value_counts()"
      ],
      "execution_count": 0,
      "outputs": [
        {
          "output_type": "execute_result",
          "data": {
            "text/plain": [
              "1    32012\n",
              "0     4661\n",
              "Name: classifier_label, dtype: int64"
            ]
          },
          "metadata": {
            "tags": []
          },
          "execution_count": 31
        }
      ]
    },
    {
      "cell_type": "code",
      "metadata": {
        "colab_type": "code",
        "outputId": "4c1511d3-e530-44b9-fae6-ac90b113f18b",
        "id": "2zwRnVYcIsDL",
        "colab": {
          "base_uri": "https://localhost:8080/",
          "height": 35
        }
      },
      "source": [
        "df.shape"
      ],
      "execution_count": 0,
      "outputs": [
        {
          "output_type": "execute_result",
          "data": {
            "text/plain": [
              "(36673, 14)"
            ]
          },
          "metadata": {
            "tags": []
          },
          "execution_count": 32
        }
      ]
    },
    {
      "cell_type": "markdown",
      "metadata": {
        "colab_type": "text",
        "id": "qDWqW1gfIsDN"
      },
      "source": [
        "## Feature engineering"
      ]
    },
    {
      "cell_type": "code",
      "metadata": {
        "colab_type": "code",
        "outputId": "5b4bf5c6-1dd5-4681-bfba-25482d71b12a",
        "id": "cdemhyifIsDN",
        "colab": {
          "base_uri": "https://localhost:8080/",
          "height": 204
        }
      },
      "source": [
        "dummies_language = pd.get_dummies(df.language)\n",
        "dummies_language.head()"
      ],
      "execution_count": 0,
      "outputs": [
        {
          "output_type": "execute_result",
          "data": {
            "text/html": [
              "<div>\n",
              "<style scoped>\n",
              "    .dataframe tbody tr th:only-of-type {\n",
              "        vertical-align: middle;\n",
              "    }\n",
              "\n",
              "    .dataframe tbody tr th {\n",
              "        vertical-align: top;\n",
              "    }\n",
              "\n",
              "    .dataframe thead th {\n",
              "        text-align: right;\n",
              "    }\n",
              "</style>\n",
              "<table border=\"1\" class=\"dataframe\">\n",
              "  <thead>\n",
              "    <tr style=\"text-align: right;\">\n",
              "      <th></th>\n",
              "      <th>bul</th>\n",
              "      <th>chi</th>\n",
              "      <th>cze</th>\n",
              "      <th>dan</th>\n",
              "      <th>dut</th>\n",
              "      <th>eng</th>\n",
              "      <th>fre</th>\n",
              "      <th>ger</th>\n",
              "      <th>heb</th>\n",
              "      <th>hun</th>\n",
              "      <th>ita</th>\n",
              "      <th>jpn</th>\n",
              "      <th>lit</th>\n",
              "      <th>nor</th>\n",
              "      <th>pol</th>\n",
              "      <th>por</th>\n",
              "      <th>rum</th>\n",
              "      <th>rus</th>\n",
              "      <th>spa</th>\n",
              "      <th>swe</th>\n",
              "      <th>ukr</th>\n",
              "    </tr>\n",
              "  </thead>\n",
              "  <tbody>\n",
              "    <tr>\n",
              "      <th>7</th>\n",
              "      <td>0</td>\n",
              "      <td>0</td>\n",
              "      <td>0</td>\n",
              "      <td>0</td>\n",
              "      <td>0</td>\n",
              "      <td>1</td>\n",
              "      <td>0</td>\n",
              "      <td>0</td>\n",
              "      <td>0</td>\n",
              "      <td>0</td>\n",
              "      <td>0</td>\n",
              "      <td>0</td>\n",
              "      <td>0</td>\n",
              "      <td>0</td>\n",
              "      <td>0</td>\n",
              "      <td>0</td>\n",
              "      <td>0</td>\n",
              "      <td>0</td>\n",
              "      <td>0</td>\n",
              "      <td>0</td>\n",
              "      <td>0</td>\n",
              "    </tr>\n",
              "    <tr>\n",
              "      <th>8</th>\n",
              "      <td>0</td>\n",
              "      <td>0</td>\n",
              "      <td>0</td>\n",
              "      <td>0</td>\n",
              "      <td>0</td>\n",
              "      <td>1</td>\n",
              "      <td>0</td>\n",
              "      <td>0</td>\n",
              "      <td>0</td>\n",
              "      <td>0</td>\n",
              "      <td>0</td>\n",
              "      <td>0</td>\n",
              "      <td>0</td>\n",
              "      <td>0</td>\n",
              "      <td>0</td>\n",
              "      <td>0</td>\n",
              "      <td>0</td>\n",
              "      <td>0</td>\n",
              "      <td>0</td>\n",
              "      <td>0</td>\n",
              "      <td>0</td>\n",
              "    </tr>\n",
              "    <tr>\n",
              "      <th>15</th>\n",
              "      <td>0</td>\n",
              "      <td>0</td>\n",
              "      <td>0</td>\n",
              "      <td>0</td>\n",
              "      <td>0</td>\n",
              "      <td>1</td>\n",
              "      <td>0</td>\n",
              "      <td>0</td>\n",
              "      <td>0</td>\n",
              "      <td>0</td>\n",
              "      <td>0</td>\n",
              "      <td>0</td>\n",
              "      <td>0</td>\n",
              "      <td>0</td>\n",
              "      <td>0</td>\n",
              "      <td>0</td>\n",
              "      <td>0</td>\n",
              "      <td>0</td>\n",
              "      <td>0</td>\n",
              "      <td>0</td>\n",
              "      <td>0</td>\n",
              "    </tr>\n",
              "    <tr>\n",
              "      <th>16</th>\n",
              "      <td>0</td>\n",
              "      <td>0</td>\n",
              "      <td>0</td>\n",
              "      <td>0</td>\n",
              "      <td>0</td>\n",
              "      <td>1</td>\n",
              "      <td>0</td>\n",
              "      <td>0</td>\n",
              "      <td>0</td>\n",
              "      <td>0</td>\n",
              "      <td>0</td>\n",
              "      <td>0</td>\n",
              "      <td>0</td>\n",
              "      <td>0</td>\n",
              "      <td>0</td>\n",
              "      <td>0</td>\n",
              "      <td>0</td>\n",
              "      <td>0</td>\n",
              "      <td>0</td>\n",
              "      <td>0</td>\n",
              "      <td>0</td>\n",
              "    </tr>\n",
              "    <tr>\n",
              "      <th>23</th>\n",
              "      <td>0</td>\n",
              "      <td>0</td>\n",
              "      <td>0</td>\n",
              "      <td>0</td>\n",
              "      <td>0</td>\n",
              "      <td>1</td>\n",
              "      <td>0</td>\n",
              "      <td>0</td>\n",
              "      <td>0</td>\n",
              "      <td>0</td>\n",
              "      <td>0</td>\n",
              "      <td>0</td>\n",
              "      <td>0</td>\n",
              "      <td>0</td>\n",
              "      <td>0</td>\n",
              "      <td>0</td>\n",
              "      <td>0</td>\n",
              "      <td>0</td>\n",
              "      <td>0</td>\n",
              "      <td>0</td>\n",
              "      <td>0</td>\n",
              "    </tr>\n",
              "  </tbody>\n",
              "</table>\n",
              "</div>"
            ],
            "text/plain": [
              "    bul  chi  cze  dan  dut  eng  fre  ...  pol  por  rum  rus  spa  swe  ukr\n",
              "7     0    0    0    0    0    1    0  ...    0    0    0    0    0    0    0\n",
              "8     0    0    0    0    0    1    0  ...    0    0    0    0    0    0    0\n",
              "15    0    0    0    0    0    1    0  ...    0    0    0    0    0    0    0\n",
              "16    0    0    0    0    0    1    0  ...    0    0    0    0    0    0    0\n",
              "23    0    0    0    0    0    1    0  ...    0    0    0    0    0    0    0\n",
              "\n",
              "[5 rows x 21 columns]"
            ]
          },
          "metadata": {
            "tags": []
          },
          "execution_count": 33
        }
      ]
    },
    {
      "cell_type": "code",
      "metadata": {
        "id": "kR9qLRn0KiGK",
        "colab_type": "code",
        "outputId": "f848e580-f2c8-40ce-c3c8-f28ed28bda31",
        "colab": {
          "base_uri": "https://localhost:8080/",
          "height": 204
        }
      },
      "source": [
        "dummies_pub_model = pd.get_dummies(df.pub_model)\n",
        "dummies_pub_model.head()"
      ],
      "execution_count": 0,
      "outputs": [
        {
          "output_type": "execute_result",
          "data": {
            "text/html": [
              "<div>\n",
              "<style scoped>\n",
              "    .dataframe tbody tr th:only-of-type {\n",
              "        vertical-align: middle;\n",
              "    }\n",
              "\n",
              "    .dataframe tbody tr th {\n",
              "        vertical-align: top;\n",
              "    }\n",
              "\n",
              "    .dataframe thead th {\n",
              "        text-align: right;\n",
              "    }\n",
              "</style>\n",
              "<table border=\"1\" class=\"dataframe\">\n",
              "  <thead>\n",
              "    <tr style=\"text-align: right;\">\n",
              "      <th></th>\n",
              "      <th>Electronic</th>\n",
              "      <th>Electronic-Print</th>\n",
              "      <th>Electronic-eCollection</th>\n",
              "      <th>Print</th>\n",
              "      <th>Print-Electronic</th>\n",
              "    </tr>\n",
              "  </thead>\n",
              "  <tbody>\n",
              "    <tr>\n",
              "      <th>7</th>\n",
              "      <td>0</td>\n",
              "      <td>0</td>\n",
              "      <td>0</td>\n",
              "      <td>0</td>\n",
              "      <td>1</td>\n",
              "    </tr>\n",
              "    <tr>\n",
              "      <th>8</th>\n",
              "      <td>0</td>\n",
              "      <td>0</td>\n",
              "      <td>0</td>\n",
              "      <td>0</td>\n",
              "      <td>1</td>\n",
              "    </tr>\n",
              "    <tr>\n",
              "      <th>15</th>\n",
              "      <td>0</td>\n",
              "      <td>0</td>\n",
              "      <td>0</td>\n",
              "      <td>1</td>\n",
              "      <td>0</td>\n",
              "    </tr>\n",
              "    <tr>\n",
              "      <th>16</th>\n",
              "      <td>0</td>\n",
              "      <td>0</td>\n",
              "      <td>0</td>\n",
              "      <td>1</td>\n",
              "      <td>0</td>\n",
              "    </tr>\n",
              "    <tr>\n",
              "      <th>23</th>\n",
              "      <td>0</td>\n",
              "      <td>0</td>\n",
              "      <td>0</td>\n",
              "      <td>1</td>\n",
              "      <td>0</td>\n",
              "    </tr>\n",
              "  </tbody>\n",
              "</table>\n",
              "</div>"
            ],
            "text/plain": [
              "    Electronic  Electronic-Print  ...  Print  Print-Electronic\n",
              "7            0                 0  ...      0                 1\n",
              "8            0                 0  ...      0                 1\n",
              "15           0                 0  ...      1                 0\n",
              "16           0                 0  ...      1                 0\n",
              "23           0                 0  ...      1                 0\n",
              "\n",
              "[5 rows x 5 columns]"
            ]
          },
          "metadata": {
            "tags": []
          },
          "execution_count": 34
        }
      ]
    },
    {
      "cell_type": "code",
      "metadata": {
        "id": "A7tJjcQHvr_1",
        "colab_type": "code",
        "colab": {}
      },
      "source": [
        ""
      ],
      "execution_count": 0,
      "outputs": []
    },
    {
      "cell_type": "code",
      "metadata": {
        "id": "zcUbQjwav7tc",
        "colab_type": "code",
        "outputId": "305d7c59-7841-48d6-b4b0-e6b5cd250ea0",
        "colab": {
          "base_uri": "https://localhost:8080/",
          "height": 107
        }
      },
      "source": [
        "top_n_journal = list(df.title.value_counts().head(5).index)\n",
        "top_n_journal"
      ],
      "execution_count": 0,
      "outputs": [
        {
          "output_type": "execute_result",
          "data": {
            "text/plain": [
              "['Chemico-biological interactions',\n",
              " 'The Journal of rheumatology',\n",
              " 'Arthritis and rheumatism',\n",
              " 'Environmental health perspectives',\n",
              " 'Toxicology and applied pharmacology']"
            ]
          },
          "metadata": {
            "tags": []
          },
          "execution_count": 35
        }
      ]
    },
    {
      "cell_type": "code",
      "metadata": {
        "id": "IX65eC1fw6tt",
        "colab_type": "code",
        "colab": {}
      },
      "source": [
        "df['title'][~df.title.isin(top_n_journal)] = 'Other'"
      ],
      "execution_count": 0,
      "outputs": []
    },
    {
      "cell_type": "code",
      "metadata": {
        "id": "_q4jsxy_xKjc",
        "colab_type": "code",
        "outputId": "3aa1fe25-8697-4ddb-d9a9-d51adc383be6",
        "colab": {
          "base_uri": "https://localhost:8080/",
          "height": 221
        }
      },
      "source": [
        "dummies_journal = pd.get_dummies(df.title)\n",
        "dummies_journal.head()"
      ],
      "execution_count": 0,
      "outputs": [
        {
          "output_type": "execute_result",
          "data": {
            "text/html": [
              "<div>\n",
              "<style scoped>\n",
              "    .dataframe tbody tr th:only-of-type {\n",
              "        vertical-align: middle;\n",
              "    }\n",
              "\n",
              "    .dataframe tbody tr th {\n",
              "        vertical-align: top;\n",
              "    }\n",
              "\n",
              "    .dataframe thead th {\n",
              "        text-align: right;\n",
              "    }\n",
              "</style>\n",
              "<table border=\"1\" class=\"dataframe\">\n",
              "  <thead>\n",
              "    <tr style=\"text-align: right;\">\n",
              "      <th></th>\n",
              "      <th>Arthritis and rheumatism</th>\n",
              "      <th>Chemico-biological interactions</th>\n",
              "      <th>Environmental health perspectives</th>\n",
              "      <th>Other</th>\n",
              "      <th>The Journal of rheumatology</th>\n",
              "      <th>Toxicology and applied pharmacology</th>\n",
              "    </tr>\n",
              "  </thead>\n",
              "  <tbody>\n",
              "    <tr>\n",
              "      <th>7</th>\n",
              "      <td>0</td>\n",
              "      <td>0</td>\n",
              "      <td>0</td>\n",
              "      <td>1</td>\n",
              "      <td>0</td>\n",
              "      <td>0</td>\n",
              "    </tr>\n",
              "    <tr>\n",
              "      <th>8</th>\n",
              "      <td>0</td>\n",
              "      <td>0</td>\n",
              "      <td>0</td>\n",
              "      <td>1</td>\n",
              "      <td>0</td>\n",
              "      <td>0</td>\n",
              "    </tr>\n",
              "    <tr>\n",
              "      <th>15</th>\n",
              "      <td>0</td>\n",
              "      <td>0</td>\n",
              "      <td>0</td>\n",
              "      <td>1</td>\n",
              "      <td>0</td>\n",
              "      <td>0</td>\n",
              "    </tr>\n",
              "    <tr>\n",
              "      <th>16</th>\n",
              "      <td>0</td>\n",
              "      <td>0</td>\n",
              "      <td>0</td>\n",
              "      <td>1</td>\n",
              "      <td>0</td>\n",
              "      <td>0</td>\n",
              "    </tr>\n",
              "    <tr>\n",
              "      <th>23</th>\n",
              "      <td>1</td>\n",
              "      <td>0</td>\n",
              "      <td>0</td>\n",
              "      <td>0</td>\n",
              "      <td>0</td>\n",
              "      <td>0</td>\n",
              "    </tr>\n",
              "  </tbody>\n",
              "</table>\n",
              "</div>"
            ],
            "text/plain": [
              "    Arthritis and rheumatism  ...  Toxicology and applied pharmacology\n",
              "7                          0  ...                                    0\n",
              "8                          0  ...                                    0\n",
              "15                         0  ...                                    0\n",
              "16                         0  ...                                    0\n",
              "23                         1  ...                                    0\n",
              "\n",
              "[5 rows x 6 columns]"
            ]
          },
          "metadata": {
            "tags": []
          },
          "execution_count": 37
        }
      ]
    },
    {
      "cell_type": "code",
      "metadata": {
        "colab_type": "code",
        "id": "yPADqLd-IsDP",
        "colab": {}
      },
      "source": [
        "df = df.join(dummies_language)\n",
        "df = df.join(dummies_pub_model)\n",
        "df = df.join(dummies_journal)\n"
      ],
      "execution_count": 0,
      "outputs": []
    },
    {
      "cell_type": "code",
      "metadata": {
        "colab_type": "code",
        "outputId": "f3a0c0b9-b211-4207-bb5a-d9eece6c794c",
        "id": "vTE7gvuNIsDT",
        "colab": {
          "base_uri": "https://localhost:8080/",
          "height": 326
        }
      },
      "source": [
        "df.head()"
      ],
      "execution_count": 0,
      "outputs": [
        {
          "output_type": "execute_result",
          "data": {
            "text/html": [
              "<div>\n",
              "<style scoped>\n",
              "    .dataframe tbody tr th:only-of-type {\n",
              "        vertical-align: middle;\n",
              "    }\n",
              "\n",
              "    .dataframe tbody tr th {\n",
              "        vertical-align: top;\n",
              "    }\n",
              "\n",
              "    .dataframe thead th {\n",
              "        text-align: right;\n",
              "    }\n",
              "</style>\n",
              "<table border=\"1\" class=\"dataframe\">\n",
              "  <thead>\n",
              "    <tr style=\"text-align: right;\">\n",
              "      <th></th>\n",
              "      <th>gene_disease_relationship</th>\n",
              "      <th>classifier_label</th>\n",
              "      <th>pmid</th>\n",
              "      <th>num_authors</th>\n",
              "      <th>num_chemicals</th>\n",
              "      <th>article_title_length</th>\n",
              "      <th>abstract_length</th>\n",
              "      <th>language</th>\n",
              "      <th>title</th>\n",
              "      <th>pub_model</th>\n",
              "      <th>total_pub_models_relationship_is_in</th>\n",
              "      <th>total_distinct_languages_relationship_in</th>\n",
              "      <th>total_distinct_journals_relationship_is_in</th>\n",
              "      <th>total_pubmed_articles_on_relationship</th>\n",
              "      <th>bul</th>\n",
              "      <th>chi</th>\n",
              "      <th>cze</th>\n",
              "      <th>dan</th>\n",
              "      <th>dut</th>\n",
              "      <th>eng</th>\n",
              "      <th>fre</th>\n",
              "      <th>ger</th>\n",
              "      <th>heb</th>\n",
              "      <th>hun</th>\n",
              "      <th>ita</th>\n",
              "      <th>jpn</th>\n",
              "      <th>lit</th>\n",
              "      <th>nor</th>\n",
              "      <th>pol</th>\n",
              "      <th>por</th>\n",
              "      <th>rum</th>\n",
              "      <th>rus</th>\n",
              "      <th>spa</th>\n",
              "      <th>swe</th>\n",
              "      <th>ukr</th>\n",
              "      <th>Electronic</th>\n",
              "      <th>Electronic-Print</th>\n",
              "      <th>Electronic-eCollection</th>\n",
              "      <th>Print</th>\n",
              "      <th>Print-Electronic</th>\n",
              "      <th>Arthritis and rheumatism</th>\n",
              "      <th>Chemico-biological interactions</th>\n",
              "      <th>Environmental health perspectives</th>\n",
              "      <th>Other</th>\n",
              "      <th>The Journal of rheumatology</th>\n",
              "      <th>Toxicology and applied pharmacology</th>\n",
              "    </tr>\n",
              "  </thead>\n",
              "  <tbody>\n",
              "    <tr>\n",
              "      <th>7</th>\n",
              "      <td>fib-ra</td>\n",
              "      <td>1</td>\n",
              "      <td>17878395</td>\n",
              "      <td>2.0</td>\n",
              "      <td>2.0</td>\n",
              "      <td>54.0</td>\n",
              "      <td>131.0</td>\n",
              "      <td>eng</td>\n",
              "      <td>Other</td>\n",
              "      <td>Print-Electronic</td>\n",
              "      <td>3</td>\n",
              "      <td>7</td>\n",
              "      <td>90</td>\n",
              "      <td>192</td>\n",
              "      <td>0</td>\n",
              "      <td>0</td>\n",
              "      <td>0</td>\n",
              "      <td>0</td>\n",
              "      <td>0</td>\n",
              "      <td>1</td>\n",
              "      <td>0</td>\n",
              "      <td>0</td>\n",
              "      <td>0</td>\n",
              "      <td>0</td>\n",
              "      <td>0</td>\n",
              "      <td>0</td>\n",
              "      <td>0</td>\n",
              "      <td>0</td>\n",
              "      <td>0</td>\n",
              "      <td>0</td>\n",
              "      <td>0</td>\n",
              "      <td>0</td>\n",
              "      <td>0</td>\n",
              "      <td>0</td>\n",
              "      <td>0</td>\n",
              "      <td>0</td>\n",
              "      <td>0</td>\n",
              "      <td>0</td>\n",
              "      <td>0</td>\n",
              "      <td>1</td>\n",
              "      <td>0</td>\n",
              "      <td>0</td>\n",
              "      <td>0</td>\n",
              "      <td>1</td>\n",
              "      <td>0</td>\n",
              "      <td>0</td>\n",
              "    </tr>\n",
              "    <tr>\n",
              "      <th>8</th>\n",
              "      <td>fib-ra</td>\n",
              "      <td>1</td>\n",
              "      <td>17878395</td>\n",
              "      <td>2.0</td>\n",
              "      <td>2.0</td>\n",
              "      <td>54.0</td>\n",
              "      <td>131.0</td>\n",
              "      <td>eng</td>\n",
              "      <td>Other</td>\n",
              "      <td>Print-Electronic</td>\n",
              "      <td>3</td>\n",
              "      <td>7</td>\n",
              "      <td>90</td>\n",
              "      <td>192</td>\n",
              "      <td>0</td>\n",
              "      <td>0</td>\n",
              "      <td>0</td>\n",
              "      <td>0</td>\n",
              "      <td>0</td>\n",
              "      <td>1</td>\n",
              "      <td>0</td>\n",
              "      <td>0</td>\n",
              "      <td>0</td>\n",
              "      <td>0</td>\n",
              "      <td>0</td>\n",
              "      <td>0</td>\n",
              "      <td>0</td>\n",
              "      <td>0</td>\n",
              "      <td>0</td>\n",
              "      <td>0</td>\n",
              "      <td>0</td>\n",
              "      <td>0</td>\n",
              "      <td>0</td>\n",
              "      <td>0</td>\n",
              "      <td>0</td>\n",
              "      <td>0</td>\n",
              "      <td>0</td>\n",
              "      <td>0</td>\n",
              "      <td>0</td>\n",
              "      <td>1</td>\n",
              "      <td>0</td>\n",
              "      <td>0</td>\n",
              "      <td>0</td>\n",
              "      <td>1</td>\n",
              "      <td>0</td>\n",
              "      <td>0</td>\n",
              "    </tr>\n",
              "    <tr>\n",
              "      <th>15</th>\n",
              "      <td>fib-ra</td>\n",
              "      <td>1</td>\n",
              "      <td>3136089</td>\n",
              "      <td>8.0</td>\n",
              "      <td>3.0</td>\n",
              "      <td>160.0</td>\n",
              "      <td>1729.0</td>\n",
              "      <td>eng</td>\n",
              "      <td>Other</td>\n",
              "      <td>Print</td>\n",
              "      <td>3</td>\n",
              "      <td>7</td>\n",
              "      <td>90</td>\n",
              "      <td>192</td>\n",
              "      <td>0</td>\n",
              "      <td>0</td>\n",
              "      <td>0</td>\n",
              "      <td>0</td>\n",
              "      <td>0</td>\n",
              "      <td>1</td>\n",
              "      <td>0</td>\n",
              "      <td>0</td>\n",
              "      <td>0</td>\n",
              "      <td>0</td>\n",
              "      <td>0</td>\n",
              "      <td>0</td>\n",
              "      <td>0</td>\n",
              "      <td>0</td>\n",
              "      <td>0</td>\n",
              "      <td>0</td>\n",
              "      <td>0</td>\n",
              "      <td>0</td>\n",
              "      <td>0</td>\n",
              "      <td>0</td>\n",
              "      <td>0</td>\n",
              "      <td>0</td>\n",
              "      <td>0</td>\n",
              "      <td>0</td>\n",
              "      <td>1</td>\n",
              "      <td>0</td>\n",
              "      <td>0</td>\n",
              "      <td>0</td>\n",
              "      <td>0</td>\n",
              "      <td>1</td>\n",
              "      <td>0</td>\n",
              "      <td>0</td>\n",
              "    </tr>\n",
              "    <tr>\n",
              "      <th>16</th>\n",
              "      <td>fib-ra</td>\n",
              "      <td>1</td>\n",
              "      <td>3136089</td>\n",
              "      <td>8.0</td>\n",
              "      <td>3.0</td>\n",
              "      <td>160.0</td>\n",
              "      <td>1729.0</td>\n",
              "      <td>eng</td>\n",
              "      <td>Other</td>\n",
              "      <td>Print</td>\n",
              "      <td>3</td>\n",
              "      <td>7</td>\n",
              "      <td>90</td>\n",
              "      <td>192</td>\n",
              "      <td>0</td>\n",
              "      <td>0</td>\n",
              "      <td>0</td>\n",
              "      <td>0</td>\n",
              "      <td>0</td>\n",
              "      <td>1</td>\n",
              "      <td>0</td>\n",
              "      <td>0</td>\n",
              "      <td>0</td>\n",
              "      <td>0</td>\n",
              "      <td>0</td>\n",
              "      <td>0</td>\n",
              "      <td>0</td>\n",
              "      <td>0</td>\n",
              "      <td>0</td>\n",
              "      <td>0</td>\n",
              "      <td>0</td>\n",
              "      <td>0</td>\n",
              "      <td>0</td>\n",
              "      <td>0</td>\n",
              "      <td>0</td>\n",
              "      <td>0</td>\n",
              "      <td>0</td>\n",
              "      <td>0</td>\n",
              "      <td>1</td>\n",
              "      <td>0</td>\n",
              "      <td>0</td>\n",
              "      <td>0</td>\n",
              "      <td>0</td>\n",
              "      <td>1</td>\n",
              "      <td>0</td>\n",
              "      <td>0</td>\n",
              "    </tr>\n",
              "    <tr>\n",
              "      <th>23</th>\n",
              "      <td>fib-ra</td>\n",
              "      <td>1</td>\n",
              "      <td>2920047</td>\n",
              "      <td>3.0</td>\n",
              "      <td>2.0</td>\n",
              "      <td>155.0</td>\n",
              "      <td>1377.0</td>\n",
              "      <td>eng</td>\n",
              "      <td>Arthritis and rheumatism</td>\n",
              "      <td>Print</td>\n",
              "      <td>3</td>\n",
              "      <td>7</td>\n",
              "      <td>90</td>\n",
              "      <td>192</td>\n",
              "      <td>0</td>\n",
              "      <td>0</td>\n",
              "      <td>0</td>\n",
              "      <td>0</td>\n",
              "      <td>0</td>\n",
              "      <td>1</td>\n",
              "      <td>0</td>\n",
              "      <td>0</td>\n",
              "      <td>0</td>\n",
              "      <td>0</td>\n",
              "      <td>0</td>\n",
              "      <td>0</td>\n",
              "      <td>0</td>\n",
              "      <td>0</td>\n",
              "      <td>0</td>\n",
              "      <td>0</td>\n",
              "      <td>0</td>\n",
              "      <td>0</td>\n",
              "      <td>0</td>\n",
              "      <td>0</td>\n",
              "      <td>0</td>\n",
              "      <td>0</td>\n",
              "      <td>0</td>\n",
              "      <td>0</td>\n",
              "      <td>1</td>\n",
              "      <td>0</td>\n",
              "      <td>1</td>\n",
              "      <td>0</td>\n",
              "      <td>0</td>\n",
              "      <td>0</td>\n",
              "      <td>0</td>\n",
              "      <td>0</td>\n",
              "    </tr>\n",
              "  </tbody>\n",
              "</table>\n",
              "</div>"
            ],
            "text/plain": [
              "   gene_disease_relationship  ...  Toxicology and applied pharmacology\n",
              "7                     fib-ra  ...                                    0\n",
              "8                     fib-ra  ...                                    0\n",
              "15                    fib-ra  ...                                    0\n",
              "16                    fib-ra  ...                                    0\n",
              "23                    fib-ra  ...                                    0\n",
              "\n",
              "[5 rows x 46 columns]"
            ]
          },
          "metadata": {
            "tags": []
          },
          "execution_count": 39
        }
      ]
    },
    {
      "cell_type": "code",
      "metadata": {
        "colab_type": "code",
        "outputId": "1fe5a5f4-ec5c-47ff-bfc9-2528da764ae5",
        "id": "C9vWX49MIsDU",
        "colab": {
          "base_uri": "https://localhost:8080/",
          "height": 215
        }
      },
      "source": [
        "df.gene_disease_relationship.value_counts().head(10)"
      ],
      "execution_count": 0,
      "outputs": [
        {
          "output_type": "execute_result",
          "data": {
            "text/plain": [
              "obese-ra                          8568\n",
              "obese-type 2 diabetes             4862\n",
              "obese-steatohepatitis             1872\n",
              "obese-type 2 diabetes mellitus    1859\n",
              "obese-liver disease               1551\n",
              "obese-ad                          1550\n",
              "obese-cancer                      1342\n",
              "obese-kidney disease               994\n",
              "obese-breast cancer                970\n",
              "obese-vascular disease             918\n",
              "Name: gene_disease_relationship, dtype: int64"
            ]
          },
          "metadata": {
            "tags": []
          },
          "execution_count": 40
        }
      ]
    },
    {
      "cell_type": "markdown",
      "metadata": {
        "colab_type": "text",
        "id": "DPmdiHm-IsDX"
      },
      "source": [
        "## Train classifier"
      ]
    },
    {
      "cell_type": "code",
      "metadata": {
        "colab_type": "code",
        "id": "7CRiOfAcIsDX",
        "colab": {}
      },
      "source": [
        "Y = df.pop('classifier_label')\n"
      ],
      "execution_count": 0,
      "outputs": []
    },
    {
      "cell_type": "code",
      "metadata": {
        "colab_type": "code",
        "outputId": "0db6739c-6e1c-4dc9-b589-5a60a1b0bce1",
        "id": "mPNlI04pIsDa",
        "colab": {
          "base_uri": "https://localhost:8080/",
          "height": 269
        }
      },
      "source": [
        "gene_disease_relationship = df.pop('gene_disease_relationship')\n",
        "df.columns"
      ],
      "execution_count": 0,
      "outputs": [
        {
          "output_type": "execute_result",
          "data": {
            "text/plain": [
              "Index(['pmid', 'num_authors', 'num_chemicals', 'article_title_length',\n",
              "       'abstract_length', 'language', 'title', 'pub_model',\n",
              "       'total_pub_models_relationship_is_in',\n",
              "       'total_distinct_languages_relationship_in',\n",
              "       'total_distinct_journals_relationship_is_in',\n",
              "       'total_pubmed_articles_on_relationship', 'bul', 'chi', 'cze', 'dan',\n",
              "       'dut', 'eng', 'fre', 'ger', 'heb', 'hun', 'ita', 'jpn', 'lit', 'nor',\n",
              "       'pol', 'por', 'rum', 'rus', 'spa', 'swe', 'ukr', 'Electronic',\n",
              "       'Electronic-Print', 'Electronic-eCollection', 'Print',\n",
              "       'Print-Electronic', 'Arthritis and rheumatism',\n",
              "       'Chemico-biological interactions', 'Environmental health perspectives',\n",
              "       'Other', 'The Journal of rheumatology',\n",
              "       'Toxicology and applied pharmacology'],\n",
              "      dtype='object')"
            ]
          },
          "metadata": {
            "tags": []
          },
          "execution_count": 42
        }
      ]
    },
    {
      "cell_type": "code",
      "metadata": {
        "colab_type": "code",
        "id": "H_ONCFtYIsDd",
        "colab": {}
      },
      "source": [
        "X = df[[ 'total_pubmed_articles_on_relationship', 'total_distinct_journals_relationship_is_in',\n",
        "       'bul', 'chi', 'cze', 'dan', 'dut', 'eng', 'fre', 'ger',\n",
        "       'heb', 'hun', 'ita', 'jpn', 'nor', 'pol', 'por', 'rum', 'rus',\n",
        "       'spa', 'swe', 'ukr', 'Electronic', 'Electronic-Print',\n",
        "       'Electronic-eCollection', 'Print', 'Print-Electronic',\n",
        "        'num_chemicals',\n",
        "        'abstract_length',\n",
        "        'article_title_length',\n",
        "          'Arthritis and rheumatism',\n",
        "       'Chemico-biological interactions', 'Environmental health perspectives',\n",
        "       'Other', 'The Journal of rheumatology',\n",
        "       'Toxicology and applied pharmacology'\n",
        "        ]]"
      ],
      "execution_count": 0,
      "outputs": []
    },
    {
      "cell_type": "code",
      "metadata": {
        "colab_type": "code",
        "outputId": "86feb5d6-7e71-4210-ea9c-795e604b5578",
        "id": "KgXvFwMMIsDg",
        "colab": {
          "base_uri": "https://localhost:8080/",
          "height": 71
        }
      },
      "source": [
        "Y.value_counts()"
      ],
      "execution_count": 0,
      "outputs": [
        {
          "output_type": "execute_result",
          "data": {
            "text/plain": [
              "1    32012\n",
              "0     4661\n",
              "Name: classifier_label, dtype: int64"
            ]
          },
          "metadata": {
            "tags": []
          },
          "execution_count": 46
        }
      ]
    },
    {
      "cell_type": "code",
      "metadata": {
        "colab_type": "code",
        "outputId": "67b8c21b-204f-4989-e61f-73b43129ca3f",
        "id": "7VYmsYY6IsDj",
        "colab": {
          "base_uri": "https://localhost:8080/",
          "height": 258
        }
      },
      "source": [
        "X.head()"
      ],
      "execution_count": 0,
      "outputs": [
        {
          "output_type": "execute_result",
          "data": {
            "text/html": [
              "<div>\n",
              "<style scoped>\n",
              "    .dataframe tbody tr th:only-of-type {\n",
              "        vertical-align: middle;\n",
              "    }\n",
              "\n",
              "    .dataframe tbody tr th {\n",
              "        vertical-align: top;\n",
              "    }\n",
              "\n",
              "    .dataframe thead th {\n",
              "        text-align: right;\n",
              "    }\n",
              "</style>\n",
              "<table border=\"1\" class=\"dataframe\">\n",
              "  <thead>\n",
              "    <tr style=\"text-align: right;\">\n",
              "      <th></th>\n",
              "      <th>total_pubmed_articles_on_relationship</th>\n",
              "      <th>total_distinct_journals_relationship_is_in</th>\n",
              "      <th>bul</th>\n",
              "      <th>chi</th>\n",
              "      <th>cze</th>\n",
              "      <th>dan</th>\n",
              "      <th>dut</th>\n",
              "      <th>eng</th>\n",
              "      <th>fre</th>\n",
              "      <th>ger</th>\n",
              "      <th>heb</th>\n",
              "      <th>hun</th>\n",
              "      <th>ita</th>\n",
              "      <th>jpn</th>\n",
              "      <th>nor</th>\n",
              "      <th>pol</th>\n",
              "      <th>por</th>\n",
              "      <th>rum</th>\n",
              "      <th>rus</th>\n",
              "      <th>spa</th>\n",
              "      <th>swe</th>\n",
              "      <th>ukr</th>\n",
              "      <th>Electronic</th>\n",
              "      <th>Electronic-Print</th>\n",
              "      <th>Electronic-eCollection</th>\n",
              "      <th>Print</th>\n",
              "      <th>Print-Electronic</th>\n",
              "      <th>num_chemicals</th>\n",
              "      <th>abstract_length</th>\n",
              "      <th>article_title_length</th>\n",
              "      <th>Arthritis and rheumatism</th>\n",
              "      <th>Chemico-biological interactions</th>\n",
              "      <th>Environmental health perspectives</th>\n",
              "      <th>Other</th>\n",
              "      <th>The Journal of rheumatology</th>\n",
              "      <th>Toxicology and applied pharmacology</th>\n",
              "    </tr>\n",
              "  </thead>\n",
              "  <tbody>\n",
              "    <tr>\n",
              "      <th>7</th>\n",
              "      <td>192</td>\n",
              "      <td>90</td>\n",
              "      <td>0</td>\n",
              "      <td>0</td>\n",
              "      <td>0</td>\n",
              "      <td>0</td>\n",
              "      <td>0</td>\n",
              "      <td>1</td>\n",
              "      <td>0</td>\n",
              "      <td>0</td>\n",
              "      <td>0</td>\n",
              "      <td>0</td>\n",
              "      <td>0</td>\n",
              "      <td>0</td>\n",
              "      <td>0</td>\n",
              "      <td>0</td>\n",
              "      <td>0</td>\n",
              "      <td>0</td>\n",
              "      <td>0</td>\n",
              "      <td>0</td>\n",
              "      <td>0</td>\n",
              "      <td>0</td>\n",
              "      <td>0</td>\n",
              "      <td>0</td>\n",
              "      <td>0</td>\n",
              "      <td>0</td>\n",
              "      <td>1</td>\n",
              "      <td>2.0</td>\n",
              "      <td>131.0</td>\n",
              "      <td>54.0</td>\n",
              "      <td>0</td>\n",
              "      <td>0</td>\n",
              "      <td>0</td>\n",
              "      <td>1</td>\n",
              "      <td>0</td>\n",
              "      <td>0</td>\n",
              "    </tr>\n",
              "    <tr>\n",
              "      <th>8</th>\n",
              "      <td>192</td>\n",
              "      <td>90</td>\n",
              "      <td>0</td>\n",
              "      <td>0</td>\n",
              "      <td>0</td>\n",
              "      <td>0</td>\n",
              "      <td>0</td>\n",
              "      <td>1</td>\n",
              "      <td>0</td>\n",
              "      <td>0</td>\n",
              "      <td>0</td>\n",
              "      <td>0</td>\n",
              "      <td>0</td>\n",
              "      <td>0</td>\n",
              "      <td>0</td>\n",
              "      <td>0</td>\n",
              "      <td>0</td>\n",
              "      <td>0</td>\n",
              "      <td>0</td>\n",
              "      <td>0</td>\n",
              "      <td>0</td>\n",
              "      <td>0</td>\n",
              "      <td>0</td>\n",
              "      <td>0</td>\n",
              "      <td>0</td>\n",
              "      <td>0</td>\n",
              "      <td>1</td>\n",
              "      <td>2.0</td>\n",
              "      <td>131.0</td>\n",
              "      <td>54.0</td>\n",
              "      <td>0</td>\n",
              "      <td>0</td>\n",
              "      <td>0</td>\n",
              "      <td>1</td>\n",
              "      <td>0</td>\n",
              "      <td>0</td>\n",
              "    </tr>\n",
              "    <tr>\n",
              "      <th>15</th>\n",
              "      <td>192</td>\n",
              "      <td>90</td>\n",
              "      <td>0</td>\n",
              "      <td>0</td>\n",
              "      <td>0</td>\n",
              "      <td>0</td>\n",
              "      <td>0</td>\n",
              "      <td>1</td>\n",
              "      <td>0</td>\n",
              "      <td>0</td>\n",
              "      <td>0</td>\n",
              "      <td>0</td>\n",
              "      <td>0</td>\n",
              "      <td>0</td>\n",
              "      <td>0</td>\n",
              "      <td>0</td>\n",
              "      <td>0</td>\n",
              "      <td>0</td>\n",
              "      <td>0</td>\n",
              "      <td>0</td>\n",
              "      <td>0</td>\n",
              "      <td>0</td>\n",
              "      <td>0</td>\n",
              "      <td>0</td>\n",
              "      <td>0</td>\n",
              "      <td>1</td>\n",
              "      <td>0</td>\n",
              "      <td>3.0</td>\n",
              "      <td>1729.0</td>\n",
              "      <td>160.0</td>\n",
              "      <td>0</td>\n",
              "      <td>0</td>\n",
              "      <td>0</td>\n",
              "      <td>1</td>\n",
              "      <td>0</td>\n",
              "      <td>0</td>\n",
              "    </tr>\n",
              "    <tr>\n",
              "      <th>16</th>\n",
              "      <td>192</td>\n",
              "      <td>90</td>\n",
              "      <td>0</td>\n",
              "      <td>0</td>\n",
              "      <td>0</td>\n",
              "      <td>0</td>\n",
              "      <td>0</td>\n",
              "      <td>1</td>\n",
              "      <td>0</td>\n",
              "      <td>0</td>\n",
              "      <td>0</td>\n",
              "      <td>0</td>\n",
              "      <td>0</td>\n",
              "      <td>0</td>\n",
              "      <td>0</td>\n",
              "      <td>0</td>\n",
              "      <td>0</td>\n",
              "      <td>0</td>\n",
              "      <td>0</td>\n",
              "      <td>0</td>\n",
              "      <td>0</td>\n",
              "      <td>0</td>\n",
              "      <td>0</td>\n",
              "      <td>0</td>\n",
              "      <td>0</td>\n",
              "      <td>1</td>\n",
              "      <td>0</td>\n",
              "      <td>3.0</td>\n",
              "      <td>1729.0</td>\n",
              "      <td>160.0</td>\n",
              "      <td>0</td>\n",
              "      <td>0</td>\n",
              "      <td>0</td>\n",
              "      <td>1</td>\n",
              "      <td>0</td>\n",
              "      <td>0</td>\n",
              "    </tr>\n",
              "    <tr>\n",
              "      <th>23</th>\n",
              "      <td>192</td>\n",
              "      <td>90</td>\n",
              "      <td>0</td>\n",
              "      <td>0</td>\n",
              "      <td>0</td>\n",
              "      <td>0</td>\n",
              "      <td>0</td>\n",
              "      <td>1</td>\n",
              "      <td>0</td>\n",
              "      <td>0</td>\n",
              "      <td>0</td>\n",
              "      <td>0</td>\n",
              "      <td>0</td>\n",
              "      <td>0</td>\n",
              "      <td>0</td>\n",
              "      <td>0</td>\n",
              "      <td>0</td>\n",
              "      <td>0</td>\n",
              "      <td>0</td>\n",
              "      <td>0</td>\n",
              "      <td>0</td>\n",
              "      <td>0</td>\n",
              "      <td>0</td>\n",
              "      <td>0</td>\n",
              "      <td>0</td>\n",
              "      <td>1</td>\n",
              "      <td>0</td>\n",
              "      <td>2.0</td>\n",
              "      <td>1377.0</td>\n",
              "      <td>155.0</td>\n",
              "      <td>1</td>\n",
              "      <td>0</td>\n",
              "      <td>0</td>\n",
              "      <td>0</td>\n",
              "      <td>0</td>\n",
              "      <td>0</td>\n",
              "    </tr>\n",
              "  </tbody>\n",
              "</table>\n",
              "</div>"
            ],
            "text/plain": [
              "    total_pubmed_articles_on_relationship  ...  Toxicology and applied pharmacology\n",
              "7                                     192  ...                                    0\n",
              "8                                     192  ...                                    0\n",
              "15                                    192  ...                                    0\n",
              "16                                    192  ...                                    0\n",
              "23                                    192  ...                                    0\n",
              "\n",
              "[5 rows x 36 columns]"
            ]
          },
          "metadata": {
            "tags": []
          },
          "execution_count": 47
        }
      ]
    },
    {
      "cell_type": "code",
      "metadata": {
        "colab_type": "code",
        "id": "9uizDlKaIsDm",
        "colab": {}
      },
      "source": [
        "X_train, X_test, y_train, y_test = train_test_split(X, Y)"
      ],
      "execution_count": 0,
      "outputs": []
    },
    {
      "cell_type": "code",
      "metadata": {
        "colab_type": "code",
        "outputId": "c77650f2-fb0d-4ac6-d7de-f94b785a31b1",
        "id": "W-j44FI3IsDo",
        "colab": {
          "base_uri": "https://localhost:8080/",
          "height": 233
        }
      },
      "source": [
        "y_train"
      ],
      "execution_count": 0,
      "outputs": [
        {
          "output_type": "execute_result",
          "data": {
            "text/plain": [
              "152012    1\n",
              "127118    0\n",
              "130354    1\n",
              "61630     0\n",
              "47543     1\n",
              "         ..\n",
              "21313     1\n",
              "93347     1\n",
              "6710      1\n",
              "72257     1\n",
              "55740     1\n",
              "Name: classifier_label, Length: 27504, dtype: int64"
            ]
          },
          "metadata": {
            "tags": []
          },
          "execution_count": 49
        }
      ]
    },
    {
      "cell_type": "code",
      "metadata": {
        "colab_type": "code",
        "outputId": "842d990d-52f2-4ba1-8d50-af6c959b692a",
        "id": "bR-FPJkaIsDs",
        "colab": {
          "base_uri": "https://localhost:8080/",
          "height": 143
        }
      },
      "source": [
        "model = XGBClassifier()\n",
        "model.fit(X_train, y_train)"
      ],
      "execution_count": 0,
      "outputs": [
        {
          "output_type": "execute_result",
          "data": {
            "text/plain": [
              "XGBClassifier(base_score=0.5, booster='gbtree', colsample_bylevel=1,\n",
              "              colsample_bynode=1, colsample_bytree=1, gamma=0,\n",
              "              learning_rate=0.1, max_delta_step=0, max_depth=3,\n",
              "              min_child_weight=1, missing=None, n_estimators=100, n_jobs=1,\n",
              "              nthread=None, objective='binary:logistic', random_state=0,\n",
              "              reg_alpha=0, reg_lambda=1, scale_pos_weight=1, seed=None,\n",
              "              silent=None, subsample=1, verbosity=1)"
            ]
          },
          "metadata": {
            "tags": []
          },
          "execution_count": 50
        }
      ]
    },
    {
      "cell_type": "code",
      "metadata": {
        "colab_type": "code",
        "id": "30gZWrQGIsDu",
        "colab": {}
      },
      "source": [
        "y_pred = model.predict(X_test)"
      ],
      "execution_count": 0,
      "outputs": []
    },
    {
      "cell_type": "code",
      "metadata": {
        "colab_type": "code",
        "outputId": "935285dd-4ba5-4088-bf91-486193a0644e",
        "id": "L_m-iIeHIsDw",
        "colab": {
          "base_uri": "https://localhost:8080/",
          "height": 313
        }
      },
      "source": [
        "from sklearn.metrics import roc_curve\n",
        "from sklearn.metrics import auc\n",
        "import matplotlib.pyplot as plt\n",
        "\n",
        "# Compute fpr, tpr, thresholds and roc auc\n",
        "fpr, tpr, thresholds = roc_curve(y_test, y_pred)\n",
        "roc_auc = auc(fpr, tpr)\n",
        "\n",
        "# Plot ROC curve\n",
        "plt.plot(fpr, tpr, label='ROC curve (area = %0.3f)' % roc_auc)\n",
        "plt.plot([0, 1], [0, 1], 'k--')  # random predictions curve\n",
        "plt.xlim([0.0, 1.0])\n",
        "plt.ylim([0.0, 1.0])\n",
        "plt.xlabel('False Positive Rate or (1 - Specifity)')\n",
        "plt.ylabel('True Positive Rate or (Sensitivity)')\n",
        "plt.title('Receiver Operating Characteristic')\n",
        "plt.legend(loc=\"lower right\")"
      ],
      "execution_count": 0,
      "outputs": [
        {
          "output_type": "execute_result",
          "data": {
            "text/plain": [
              "<matplotlib.legend.Legend at 0x7fdc460f2438>"
            ]
          },
          "metadata": {
            "tags": []
          },
          "execution_count": 52
        },
        {
          "output_type": "display_data",
          "data": {
            "image/png": "[encoded data removed]",
            "text/plain": [
              "<Figure size 432x288 with 1 Axes>"
            ]
          },
          "metadata": {
            "tags": []
          }
        }
      ]
    },
    {
      "cell_type": "code",
      "metadata": {
        "colab_type": "code",
        "outputId": "47583861-7a7d-4e48-e8f6-2f439836e535",
        "id": "KrB25DqCIsDy",
        "colab": {
          "base_uri": "https://localhost:8080/",
          "height": 313
        }
      },
      "source": [
        "from xgboost import plot_importance\n",
        "# plot feature importance\n",
        "plot_importance(model)\n",
        "plt.figure(figsize=(10, 15))\n",
        "plt.show()"
      ],
      "execution_count": 0,
      "outputs": [
        {
          "output_type": "display_data",
          "data": {
            "image/png": "[encoded data removed]",
            "text/plain": [
              "<Figure size 432x288 with 1 Axes>"
            ]
          },
          "metadata": {
            "tags": []
          }
        },
        {
          "output_type": "display_data",
          "data": {
            "text/plain": [
              "<Figure size 720x1080 with 0 Axes>"
            ]
          },
          "metadata": {
            "tags": []
          }
        }
      ]
    },
    {
      "cell_type": "markdown",
      "metadata": {
        "colab_type": "text",
        "id": "TxWUnPD-MFE-"
      },
      "source": [
        "# Clinical trials classifier using pubmed features BUT ONLY FOR PMIDS EXPLICITLY SPECIFIED IN REFERENCE OF TRIAL"
      ]
    },
    {
      "cell_type": "markdown",
      "metadata": {
        "colab_type": "text",
        "id": "l5jejTdwMFFA"
      },
      "source": [
        "## Load data and assign labels"
      ]
    },
    {
      "cell_type": "code",
      "metadata": {
        "colab_type": "code",
        "id": "515wcedhMFFA",
        "colab": {}
      },
      "source": [
        "# https://cloud.google.com/resource-manager/docs/creating-managing-projects\n",
        "project_id = 'harvard-599-trendsetters'\n",
        "\n",
        "df = pd.io.gbq.read_gbq(f'''\n",
        "   SELECT\n",
        "      gene_disease_relationship,\n",
        "      classifier_label,\n",
        "      COUNT(DISTINCT pmids) as num_pmids,\n",
        "      COUNT(DISTINCT title) as num_publications,\n",
        "      AVG(num_authors) AS avg_authors\n",
        "  FROM (\n",
        "    SELECT\n",
        "      a.nct_id,\n",
        "      a.pmid,\n",
        "      a.overall_status,\n",
        "      a.phase,\n",
        "      CASE\n",
        "        WHEN SUBSTR(a.phase, 7, 1) IN (\"2\", \"3\", \"4\") THEN 1\n",
        "        WHEN SUBSTR(a.phase, 7, 1) = \"1\" AND overall_status IN ('Completed', 'Suspended', 'Withdrawn', 'Terminated') THEN 0\n",
        "        ELSE -1\n",
        "      END AS classifier_label,\n",
        "      GeneSymbol,\n",
        "      GeneID,\n",
        "      DiseaseID,\n",
        "      CONCAT(GeneSymbol, '-', DiseaseID) AS gene_disease_relationship,\n",
        "      disease_genes.pmids,\n",
        "      pubmed_meta.title,\n",
        "      pubmed_meta.article_title, \n",
        "      pubmed_meta.language,\n",
        "      ARRAY_LENGTH(pubmed_meta.authors) AS num_authors\n",
        "    FROM `harvard-599-trendsetters.aact.only_trials_with_pmid_refs` as a\n",
        "    INNER JOIN  `harvard-599-trendsetters.ctd.gene_disease_pmids_unnested` AS disease_genes\n",
        "      ON a.pmid=disease_genes.pmids\n",
        "    INNER JOIN `harvard-599-trendsetters.pubmed.baseline_02032020` AS pubmed_meta\n",
        "      on a.pmid=pubmed_meta.pmid\n",
        "    GROUP BY 1, 2, 3, 4, 5, 6, 7, 8, 9, 10, 11, 12, 13, 14\n",
        "    ORDER BY a.nct_id desc\n",
        "    )\n",
        "    GROUP BY 1, 2\n",
        "    HAVING classifier_label != -1\n",
        "''', project_id=project_id)\n",
        "\n"
      ],
      "execution_count": 0,
      "outputs": []
    },
    {
      "cell_type": "code",
      "metadata": {
        "colab_type": "code",
        "outputId": "a9afa27d-4234-4c74-e3c5-8f00fe873f7d",
        "id": "aF3-1BtzMFFB",
        "colab": {
          "base_uri": "https://localhost:8080/",
          "height": 204
        }
      },
      "source": [
        "df.head()"
      ],
      "execution_count": 0,
      "outputs": [
        {
          "output_type": "execute_result",
          "data": {
            "text/html": [
              "<div>\n",
              "<style scoped>\n",
              "    .dataframe tbody tr th:only-of-type {\n",
              "        vertical-align: middle;\n",
              "    }\n",
              "\n",
              "    .dataframe tbody tr th {\n",
              "        vertical-align: top;\n",
              "    }\n",
              "\n",
              "    .dataframe thead th {\n",
              "        text-align: right;\n",
              "    }\n",
              "</style>\n",
              "<table border=\"1\" class=\"dataframe\">\n",
              "  <thead>\n",
              "    <tr style=\"text-align: right;\">\n",
              "      <th></th>\n",
              "      <th>gene_disease_relationship</th>\n",
              "      <th>classifier_label</th>\n",
              "      <th>num_pmids</th>\n",
              "      <th>num_publications</th>\n",
              "      <th>avg_authors</th>\n",
              "    </tr>\n",
              "  </thead>\n",
              "  <tbody>\n",
              "    <tr>\n",
              "      <th>0</th>\n",
              "      <td>AK3-MESH:D006333</td>\n",
              "      <td>1</td>\n",
              "      <td>6</td>\n",
              "      <td>4</td>\n",
              "      <td>7.125000</td>\n",
              "    </tr>\n",
              "    <tr>\n",
              "      <th>1</th>\n",
              "      <td>CASR-MESH:D054198</td>\n",
              "      <td>1</td>\n",
              "      <td>3</td>\n",
              "      <td>2</td>\n",
              "      <td>8.333333</td>\n",
              "    </tr>\n",
              "    <tr>\n",
              "      <th>2</th>\n",
              "      <td>CYP19A1-MESH:D001943</td>\n",
              "      <td>1</td>\n",
              "      <td>18</td>\n",
              "      <td>13</td>\n",
              "      <td>11.911765</td>\n",
              "    </tr>\n",
              "    <tr>\n",
              "      <th>3</th>\n",
              "      <td>LEP-MESH:D006973</td>\n",
              "      <td>1</td>\n",
              "      <td>20</td>\n",
              "      <td>17</td>\n",
              "      <td>8.086957</td>\n",
              "    </tr>\n",
              "    <tr>\n",
              "      <th>4</th>\n",
              "      <td>FGB-MESH:D001172</td>\n",
              "      <td>1</td>\n",
              "      <td>3</td>\n",
              "      <td>3</td>\n",
              "      <td>11.833333</td>\n",
              "    </tr>\n",
              "  </tbody>\n",
              "</table>\n",
              "</div>"
            ],
            "text/plain": [
              "  gene_disease_relationship  classifier_label  ...  num_publications  avg_authors\n",
              "0          AK3-MESH:D006333                 1  ...                 4     7.125000\n",
              "1         CASR-MESH:D054198                 1  ...                 2     8.333333\n",
              "2      CYP19A1-MESH:D001943                 1  ...                13    11.911765\n",
              "3          LEP-MESH:D006973                 1  ...                17     8.086957\n",
              "4          FGB-MESH:D001172                 1  ...                 3    11.833333\n",
              "\n",
              "[5 rows x 5 columns]"
            ]
          },
          "metadata": {
            "tags": []
          },
          "execution_count": 6
        }
      ]
    },
    {
      "cell_type": "code",
      "metadata": {
        "colab_type": "code",
        "outputId": "c2cb8380-294e-439a-b655-dc3db4d16e72",
        "id": "dZ5c8LfhMFFE",
        "colab": {
          "base_uri": "https://localhost:8080/",
          "height": 71
        }
      },
      "source": [
        "df.classifier_label.value_counts()"
      ],
      "execution_count": 0,
      "outputs": [
        {
          "output_type": "execute_result",
          "data": {
            "text/plain": [
              "1    65\n",
              "0    20\n",
              "Name: classifier_label, dtype: int64"
            ]
          },
          "metadata": {
            "tags": []
          },
          "execution_count": 7
        }
      ]
    },
    {
      "cell_type": "code",
      "metadata": {
        "colab_type": "code",
        "outputId": "2c748517-a8ba-4f77-c9b1-1e9c9ff59d11",
        "id": "_mrHekO1MFFG",
        "colab": {
          "base_uri": "https://localhost:8080/",
          "height": 35
        }
      },
      "source": [
        "df.shape"
      ],
      "execution_count": 0,
      "outputs": [
        {
          "output_type": "execute_result",
          "data": {
            "text/plain": [
              "(85, 5)"
            ]
          },
          "metadata": {
            "tags": []
          },
          "execution_count": 8
        }
      ]
    },
    {
      "cell_type": "markdown",
      "metadata": {
        "colab_type": "text",
        "id": "KBktyoPqMFFH"
      },
      "source": [
        "## Feature engineering"
      ]
    },
    {
      "cell_type": "markdown",
      "metadata": {
        "colab_type": "text",
        "id": "62aINsnGMFFf"
      },
      "source": [
        "## Train classifier"
      ]
    },
    {
      "cell_type": "code",
      "metadata": {
        "colab_type": "code",
        "id": "j9W0nvYqMFFf",
        "colab": {}
      },
      "source": [
        "Y = df.pop('classifier_label')\n"
      ],
      "execution_count": 0,
      "outputs": []
    },
    {
      "cell_type": "code",
      "metadata": {
        "colab_type": "code",
        "outputId": "71351545-decf-491d-e38a-921ad08d55dc",
        "id": "Twem0M-LMFFg",
        "colab": {
          "base_uri": "https://localhost:8080/",
          "height": 35
        }
      },
      "source": [
        "gene_disease_relationship = df.pop('gene_disease_relationship')\n",
        "df.columns"
      ],
      "execution_count": 0,
      "outputs": [
        {
          "output_type": "execute_result",
          "data": {
            "text/plain": [
              "Index(['num_pmids', 'num_publications', 'avg_authors'], dtype='object')"
            ]
          },
          "metadata": {
            "tags": []
          },
          "execution_count": 10
        }
      ]
    },
    {
      "cell_type": "code",
      "metadata": {
        "colab_type": "code",
        "id": "_KdLz1GFMFFh",
        "colab": {}
      },
      "source": [
        "X = df"
      ],
      "execution_count": 0,
      "outputs": []
    },
    {
      "cell_type": "code",
      "metadata": {
        "colab_type": "code",
        "outputId": "4500e63b-6278-40bf-9751-ba43f98323f6",
        "id": "Kit6biL-MFFi",
        "colab": {
          "base_uri": "https://localhost:8080/",
          "height": 71
        }
      },
      "source": [
        "Y.value_counts()"
      ],
      "execution_count": 0,
      "outputs": [
        {
          "output_type": "execute_result",
          "data": {
            "text/plain": [
              "1    65\n",
              "0    20\n",
              "Name: classifier_label, dtype: int64"
            ]
          },
          "metadata": {
            "tags": []
          },
          "execution_count": 12
        }
      ]
    },
    {
      "cell_type": "code",
      "metadata": {
        "colab_type": "code",
        "outputId": "39110a7e-f42a-4be2-a8e0-70ec27966fec",
        "id": "jTi-7bOPMFFk",
        "colab": {
          "base_uri": "https://localhost:8080/",
          "height": 204
        }
      },
      "source": [
        "X.head()"
      ],
      "execution_count": 0,
      "outputs": [
        {
          "output_type": "execute_result",
          "data": {
            "text/html": [
              "<div>\n",
              "<style scoped>\n",
              "    .dataframe tbody tr th:only-of-type {\n",
              "        vertical-align: middle;\n",
              "    }\n",
              "\n",
              "    .dataframe tbody tr th {\n",
              "        vertical-align: top;\n",
              "    }\n",
              "\n",
              "    .dataframe thead th {\n",
              "        text-align: right;\n",
              "    }\n",
              "</style>\n",
              "<table border=\"1\" class=\"dataframe\">\n",
              "  <thead>\n",
              "    <tr style=\"text-align: right;\">\n",
              "      <th></th>\n",
              "      <th>num_pmids</th>\n",
              "      <th>num_publications</th>\n",
              "      <th>avg_authors</th>\n",
              "    </tr>\n",
              "  </thead>\n",
              "  <tbody>\n",
              "    <tr>\n",
              "      <th>0</th>\n",
              "      <td>6</td>\n",
              "      <td>4</td>\n",
              "      <td>7.125000</td>\n",
              "    </tr>\n",
              "    <tr>\n",
              "      <th>1</th>\n",
              "      <td>3</td>\n",
              "      <td>2</td>\n",
              "      <td>8.333333</td>\n",
              "    </tr>\n",
              "    <tr>\n",
              "      <th>2</th>\n",
              "      <td>18</td>\n",
              "      <td>13</td>\n",
              "      <td>11.911765</td>\n",
              "    </tr>\n",
              "    <tr>\n",
              "      <th>3</th>\n",
              "      <td>20</td>\n",
              "      <td>17</td>\n",
              "      <td>8.086957</td>\n",
              "    </tr>\n",
              "    <tr>\n",
              "      <th>4</th>\n",
              "      <td>3</td>\n",
              "      <td>3</td>\n",
              "      <td>11.833333</td>\n",
              "    </tr>\n",
              "  </tbody>\n",
              "</table>\n",
              "</div>"
            ],
            "text/plain": [
              "   num_pmids  num_publications  avg_authors\n",
              "0          6                 4     7.125000\n",
              "1          3                 2     8.333333\n",
              "2         18                13    11.911765\n",
              "3         20                17     8.086957\n",
              "4          3                 3    11.833333"
            ]
          },
          "metadata": {
            "tags": []
          },
          "execution_count": 13
        }
      ]
    },
    {
      "cell_type": "code",
      "metadata": {
        "colab_type": "code",
        "id": "--bjwzv5MFFm",
        "colab": {}
      },
      "source": [
        "X_train, X_test, y_train, y_test = train_test_split(X, Y)"
      ],
      "execution_count": 0,
      "outputs": []
    },
    {
      "cell_type": "code",
      "metadata": {
        "colab_type": "code",
        "outputId": "f50b7e15-636b-47db-96cc-5d4fbbe8146e",
        "id": "64_ZWI4rMFFn",
        "colab": {
          "base_uri": "https://localhost:8080/",
          "height": 233
        }
      },
      "source": [
        "y_train"
      ],
      "execution_count": 0,
      "outputs": [
        {
          "output_type": "execute_result",
          "data": {
            "text/plain": [
              "17    1\n",
              "18    1\n",
              "41    0\n",
              "22    1\n",
              "56    1\n",
              "     ..\n",
              "35    1\n",
              "33    1\n",
              "77    1\n",
              "24    1\n",
              "11    1\n",
              "Name: classifier_label, Length: 63, dtype: int64"
            ]
          },
          "metadata": {
            "tags": []
          },
          "execution_count": 15
        }
      ]
    },
    {
      "cell_type": "code",
      "metadata": {
        "colab_type": "code",
        "outputId": "510e0cfb-3144-423c-ff3d-f0ac31eb3047",
        "id": "0nPO8oJRMFFo",
        "colab": {
          "base_uri": "https://localhost:8080/",
          "height": 143
        }
      },
      "source": [
        "model = XGBClassifier()\n",
        "model.fit(X_train, y_train)"
      ],
      "execution_count": 0,
      "outputs": [
        {
          "output_type": "execute_result",
          "data": {
            "text/plain": [
              "XGBClassifier(base_score=0.5, booster='gbtree', colsample_bylevel=1,\n",
              "              colsample_bynode=1, colsample_bytree=1, gamma=0,\n",
              "              learning_rate=0.1, max_delta_step=0, max_depth=3,\n",
              "              min_child_weight=1, missing=None, n_estimators=100, n_jobs=1,\n",
              "              nthread=None, objective='binary:logistic', random_state=0,\n",
              "              reg_alpha=0, reg_lambda=1, scale_pos_weight=1, seed=None,\n",
              "              silent=None, subsample=1, verbosity=1)"
            ]
          },
          "metadata": {
            "tags": []
          },
          "execution_count": 16
        }
      ]
    },
    {
      "cell_type": "code",
      "metadata": {
        "colab_type": "code",
        "id": "Ii66MyMdMFFp",
        "colab": {}
      },
      "source": [
        "y_pred = model.predict(X_test)"
      ],
      "execution_count": 0,
      "outputs": []
    },
    {
      "cell_type": "code",
      "metadata": {
        "colab_type": "code",
        "outputId": "f3d0020f-34e6-4e92-a60b-183acc313679",
        "id": "2oeM64ISMFFs",
        "colab": {
          "base_uri": "https://localhost:8080/",
          "height": 313
        }
      },
      "source": [
        "from sklearn.metrics import roc_curve\n",
        "from sklearn.metrics import auc\n",
        "import matplotlib.pyplot as plt\n",
        "\n",
        "# Compute fpr, tpr, thresholds and roc auc\n",
        "fpr, tpr, thresholds = roc_curve(y_test, y_pred)\n",
        "roc_auc = auc(fpr, tpr)\n",
        "\n",
        "# Plot ROC curve\n",
        "plt.plot(fpr, tpr, label='ROC curve (area = %0.3f)' % roc_auc)\n",
        "plt.plot([0, 1], [0, 1], 'k--')  # random predictions curve\n",
        "plt.xlim([0.0, 1.0])\n",
        "plt.ylim([0.0, 1.0])\n",
        "plt.xlabel('False Positive Rate or (1 - Specifity)')\n",
        "plt.ylabel('True Positive Rate or (Sensitivity)')\n",
        "plt.title('Receiver Operating Characteristic')\n",
        "plt.legend(loc=\"lower right\")"
      ],
      "execution_count": 0,
      "outputs": [
        {
          "output_type": "execute_result",
          "data": {
            "text/plain": [
              "<matplotlib.legend.Legend at 0x7fdc46851400>"
            ]
          },
          "metadata": {
            "tags": []
          },
          "execution_count": 18
        },
        {
          "output_type": "display_data",
          "data": {
            "image/png": "[encoded data removed]",
            "text/plain": [
              "<Figure size 432x288 with 1 Axes>"
            ]
          },
          "metadata": {
            "tags": []
          }
        }
      ]
    },
    {
      "cell_type": "code",
      "metadata": {
        "colab_type": "code",
        "outputId": "fabbecee-d67c-4410-ae29-01868396a544",
        "id": "t-wsA9GxMFFu",
        "colab": {
          "base_uri": "https://localhost:8080/",
          "height": 313
        }
      },
      "source": [
        "from xgboost import plot_importance\n",
        "# plot feature importance\n",
        "plot_importance(model)\n",
        "plt.figure(figsize=(10, 15))\n",
        "plt.show()"
      ],
      "execution_count": 0,
      "outputs": [
        {
          "output_type": "display_data",
          "data": {
            "image/png": "[encoded data removed]",
            "text/plain": [
              "<Figure size 432x288 with 1 Axes>"
            ]
          },
          "metadata": {
            "tags": []
          }
        },
        {
          "output_type": "display_data",
          "data": {
            "text/plain": [
              "<Figure size 720x1080 with 0 Axes>"
            ]
          },
          "metadata": {
            "tags": []
          }
        }
      ]
    },
    {
      "cell_type": "code",
      "metadata": {
        "id": "BLFpP46LM3EO",
        "colab_type": "code",
        "colab": {}
      },
      "source": [
        ""
      ],
      "execution_count": 0,
      "outputs": []
    }
  ]
}